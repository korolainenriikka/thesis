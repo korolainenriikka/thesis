{
 "cells": [
  {
   "cell_type": "code",
   "execution_count": 1,
   "metadata": {},
   "outputs": [
    {
     "name": "stderr",
     "output_type": "stream",
     "text": [
      "2024-10-01 17:23:02.780554: I external/local_xla/xla/tsl/cuda/cudart_stub.cc:32] Could not find cuda drivers on your machine, GPU will not be used.\n",
      "2024-10-01 17:23:02.787320: I external/local_xla/xla/tsl/cuda/cudart_stub.cc:32] Could not find cuda drivers on your machine, GPU will not be used.\n",
      "2024-10-01 17:23:02.808066: E external/local_xla/xla/stream_executor/cuda/cuda_fft.cc:485] Unable to register cuFFT factory: Attempting to register factory for plugin cuFFT when one has already been registered\n",
      "2024-10-01 17:23:02.839958: E external/local_xla/xla/stream_executor/cuda/cuda_dnn.cc:8454] Unable to register cuDNN factory: Attempting to register factory for plugin cuDNN when one has already been registered\n",
      "2024-10-01 17:23:02.849089: E external/local_xla/xla/stream_executor/cuda/cuda_blas.cc:1452] Unable to register cuBLAS factory: Attempting to register factory for plugin cuBLAS when one has already been registered\n",
      "2024-10-01 17:23:02.870912: I tensorflow/core/platform/cpu_feature_guard.cc:210] This TensorFlow binary is optimized to use available CPU instructions in performance-critical operations.\n",
      "To enable the following instructions: AVX2 FMA, in other operations, rebuild TensorFlow with the appropriate compiler flags.\n",
      "2024-10-01 17:23:04.608564: W tensorflow/compiler/tf2tensorrt/utils/py_utils.cc:38] TF-TRT Warning: Could not find TensorRT\n"
     ]
    }
   ],
   "source": [
    "import os\n",
    "\n",
    "import tensorflow as tf\n",
    "from tensorflow import keras\n",
    "\n",
    "import numpy as np\n",
    "import pandas as pd\n",
    "\n",
    "import glob\n",
    "import cv2\n",
    "import matplotlib.pyplot as plt\n",
    "\n",
    "from sklearn.model_selection import train_test_split\n",
    "\n",
    "from tensorflow.keras.optimizers import Adam\n",
    "from tensorflow.keras.preprocessing.image import ImageDataGenerator\n",
    "from tensorflow.keras.callbacks import ReduceLROnPlateau\n",
    "from tensorflow.keras.callbacks import ModelCheckpoint# early stopping\n",
    "from tensorflow.keras.layers import Dense\n",
    "from tensorflow.keras.models import Model # basic class for specifying and training a neural network\n",
    "\n",
    "import mlflow"
   ]
  },
  {
   "cell_type": "markdown",
   "metadata": {},
   "source": [
    "# Classifying teeth to M, P, I, C"
   ]
  },
  {
   "cell_type": "code",
   "execution_count": 72,
   "metadata": {},
   "outputs": [],
   "source": [
    "base_model_path = '/home/riikoro/thesis/code/pretrained_base_models/bangla_english_handwritten_mnist.keras'\n",
    "mnist_model = tf.keras.models.load_model(base_model_path)"
   ]
  },
  {
   "cell_type": "code",
   "execution_count": 25,
   "metadata": {},
   "outputs": [
    {
     "data": {
      "text/html": [
       "<div>\n",
       "<style scoped>\n",
       "    .dataframe tbody tr th:only-of-type {\n",
       "        vertical-align: middle;\n",
       "    }\n",
       "\n",
       "    .dataframe tbody tr th {\n",
       "        vertical-align: top;\n",
       "    }\n",
       "\n",
       "    .dataframe thead th {\n",
       "        text-align: right;\n",
       "    }\n",
       "</style>\n",
       "<table border=\"1\" class=\"dataframe\">\n",
       "  <thead>\n",
       "    <tr style=\"text-align: right;\">\n",
       "      <th></th>\n",
       "      <th>tooth</th>\n",
       "    </tr>\n",
       "  </thead>\n",
       "  <tbody>\n",
       "    <tr>\n",
       "      <th>0</th>\n",
       "      <td>M3</td>\n",
       "    </tr>\n",
       "    <tr>\n",
       "      <th>1</th>\n",
       "      <td>H1</td>\n",
       "    </tr>\n",
       "    <tr>\n",
       "      <th>2</th>\n",
       "      <td>T2</td>\n",
       "    </tr>\n",
       "    <tr>\n",
       "      <th>3</th>\n",
       "      <td>M3</td>\n",
       "    </tr>\n",
       "    <tr>\n",
       "      <th>4</th>\n",
       "      <td>p4</td>\n",
       "    </tr>\n",
       "    <tr>\n",
       "      <th>...</th>\n",
       "      <td>...</td>\n",
       "    </tr>\n",
       "    <tr>\n",
       "      <th>227</th>\n",
       "      <td>I3</td>\n",
       "    </tr>\n",
       "    <tr>\n",
       "      <th>228</th>\n",
       "      <td>I4</td>\n",
       "    </tr>\n",
       "    <tr>\n",
       "      <th>229</th>\n",
       "      <td>I4</td>\n",
       "    </tr>\n",
       "    <tr>\n",
       "      <th>230</th>\n",
       "      <td>I4</td>\n",
       "    </tr>\n",
       "    <tr>\n",
       "      <th>231</th>\n",
       "      <td>p4</td>\n",
       "    </tr>\n",
       "  </tbody>\n",
       "</table>\n",
       "<p>232 rows × 1 columns</p>\n",
       "</div>"
      ],
      "text/plain": [
       "    tooth\n",
       "0      M3\n",
       "1      H1\n",
       "2      T2\n",
       "3      M3\n",
       "4      p4\n",
       "..    ...\n",
       "227    I3\n",
       "228    I4\n",
       "229    I4\n",
       "230    I4\n",
       "231    p4\n",
       "\n",
       "[232 rows x 1 columns]"
      ]
     },
     "execution_count": 25,
     "metadata": {},
     "output_type": "execute_result"
    }
   ],
   "source": [
    "# get from v3 all that have either M P I or C as the tooth\n",
    "tooth_labels = pd.read_csv('/home/riikoro/fossil_data/tooth_samples/v3/azure_labels.txt', header=None, names=['tooth'])\n",
    "tooth_labels"
   ]
  },
  {
   "cell_type": "code",
   "execution_count": 26,
   "metadata": {},
   "outputs": [
    {
     "data": {
      "text/html": [
       "<div>\n",
       "<style scoped>\n",
       "    .dataframe tbody tr th:only-of-type {\n",
       "        vertical-align: middle;\n",
       "    }\n",
       "\n",
       "    .dataframe tbody tr th {\n",
       "        vertical-align: top;\n",
       "    }\n",
       "\n",
       "    .dataframe thead th {\n",
       "        text-align: right;\n",
       "    }\n",
       "</style>\n",
       "<table border=\"1\" class=\"dataframe\">\n",
       "  <thead>\n",
       "    <tr style=\"text-align: right;\">\n",
       "      <th></th>\n",
       "      <th>tooth_type</th>\n",
       "    </tr>\n",
       "  </thead>\n",
       "  <tbody>\n",
       "    <tr>\n",
       "      <th>0</th>\n",
       "      <td>M</td>\n",
       "    </tr>\n",
       "    <tr>\n",
       "      <th>1</th>\n",
       "      <td>None</td>\n",
       "    </tr>\n",
       "    <tr>\n",
       "      <th>2</th>\n",
       "      <td>None</td>\n",
       "    </tr>\n",
       "    <tr>\n",
       "      <th>3</th>\n",
       "      <td>M</td>\n",
       "    </tr>\n",
       "    <tr>\n",
       "      <th>4</th>\n",
       "      <td>P</td>\n",
       "    </tr>\n",
       "    <tr>\n",
       "      <th>...</th>\n",
       "      <td>...</td>\n",
       "    </tr>\n",
       "    <tr>\n",
       "      <th>227</th>\n",
       "      <td>I</td>\n",
       "    </tr>\n",
       "    <tr>\n",
       "      <th>228</th>\n",
       "      <td>I</td>\n",
       "    </tr>\n",
       "    <tr>\n",
       "      <th>229</th>\n",
       "      <td>I</td>\n",
       "    </tr>\n",
       "    <tr>\n",
       "      <th>230</th>\n",
       "      <td>I</td>\n",
       "    </tr>\n",
       "    <tr>\n",
       "      <th>231</th>\n",
       "      <td>P</td>\n",
       "    </tr>\n",
       "  </tbody>\n",
       "</table>\n",
       "<p>232 rows × 1 columns</p>\n",
       "</div>"
      ],
      "text/plain": [
       "    tooth_type\n",
       "0            M\n",
       "1         None\n",
       "2         None\n",
       "3            M\n",
       "4            P\n",
       "..         ...\n",
       "227          I\n",
       "228          I\n",
       "229          I\n",
       "230          I\n",
       "231          P\n",
       "\n",
       "[232 rows x 1 columns]"
      ]
     },
     "execution_count": 26,
     "metadata": {},
     "output_type": "execute_result"
    }
   ],
   "source": [
    "tooth_labels = pd.read_csv('/home/riikoro/fossil_data/tooth_samples/v3/azure_labels.txt', header=None, names=['tooth'])\n",
    "tooth_labels['tooth_type'] = tooth_labels['tooth'].str[0] # extract first character\n",
    "del tooth_labels['tooth']\n",
    "# set labels where tooth type is unexpected to nont\n",
    "tooth_labels.loc[~tooth_labels['tooth_type'].isin(['m', 'p', 'i', 'c', 'M', 'P', 'I', 'C']), 'tooth_type'] = None\n",
    "# uppercase all tooth type letters\n",
    "tooth_labels['tooth_type'] = tooth_labels['tooth_type'].str.upper()\n",
    "tooth_labels"
   ]
  },
  {
   "cell_type": "code",
   "execution_count": 27,
   "metadata": {},
   "outputs": [
    {
     "data": {
      "text/html": [
       "<div>\n",
       "<style scoped>\n",
       "    .dataframe tbody tr th:only-of-type {\n",
       "        vertical-align: middle;\n",
       "    }\n",
       "\n",
       "    .dataframe tbody tr th {\n",
       "        vertical-align: top;\n",
       "    }\n",
       "\n",
       "    .dataframe thead th {\n",
       "        text-align: right;\n",
       "    }\n",
       "</style>\n",
       "<table border=\"1\" class=\"dataframe\">\n",
       "  <thead>\n",
       "    <tr style=\"text-align: right;\">\n",
       "      <th></th>\n",
       "      <th>tooth_type</th>\n",
       "    </tr>\n",
       "  </thead>\n",
       "  <tbody>\n",
       "    <tr>\n",
       "      <th>0</th>\n",
       "      <td>M</td>\n",
       "    </tr>\n",
       "    <tr>\n",
       "      <th>3</th>\n",
       "      <td>M</td>\n",
       "    </tr>\n",
       "    <tr>\n",
       "      <th>4</th>\n",
       "      <td>P</td>\n",
       "    </tr>\n",
       "    <tr>\n",
       "      <th>5</th>\n",
       "      <td>M</td>\n",
       "    </tr>\n",
       "    <tr>\n",
       "      <th>7</th>\n",
       "      <td>M</td>\n",
       "    </tr>\n",
       "    <tr>\n",
       "      <th>...</th>\n",
       "      <td>...</td>\n",
       "    </tr>\n",
       "    <tr>\n",
       "      <th>227</th>\n",
       "      <td>I</td>\n",
       "    </tr>\n",
       "    <tr>\n",
       "      <th>228</th>\n",
       "      <td>I</td>\n",
       "    </tr>\n",
       "    <tr>\n",
       "      <th>229</th>\n",
       "      <td>I</td>\n",
       "    </tr>\n",
       "    <tr>\n",
       "      <th>230</th>\n",
       "      <td>I</td>\n",
       "    </tr>\n",
       "    <tr>\n",
       "      <th>231</th>\n",
       "      <td>P</td>\n",
       "    </tr>\n",
       "  </tbody>\n",
       "</table>\n",
       "<p>208 rows × 1 columns</p>\n",
       "</div>"
      ],
      "text/plain": [
       "    tooth_type\n",
       "0            M\n",
       "3            M\n",
       "4            P\n",
       "5            M\n",
       "7            M\n",
       "..         ...\n",
       "227          I\n",
       "228          I\n",
       "229          I\n",
       "230          I\n",
       "231          P\n",
       "\n",
       "[208 rows x 1 columns]"
      ]
     },
     "execution_count": 27,
     "metadata": {},
     "output_type": "execute_result"
    }
   ],
   "source": [
    "# drop rows where type is unknown\n",
    "tooth_labels = tooth_labels.dropna()\n",
    "tooth_labels"
   ]
  },
  {
   "cell_type": "markdown",
   "metadata": {},
   "source": [
    "### Check class balance with histogram"
   ]
  },
  {
   "cell_type": "code",
   "execution_count": 28,
   "metadata": {},
   "outputs": [
    {
     "data": {
      "image/png": "[encoded data removed]",
      "text/plain": [
       "<Figure size 640x480 with 1 Axes>"
      ]
     },
     "metadata": {},
     "output_type": "display_data"
    }
   ],
   "source": [
    "import matplotlib.pyplot as plt\n",
    "\n",
    "df = tooth_labels\n",
    "value_counts = df['tooth_type'].value_counts()\n",
    "\n",
    "# Plot a bar chart\n",
    "value_counts.plot(kind='bar', color='skyblue')\n",
    "\n",
    "# Add title and labels\n",
    "plt.title('Class balances')\n",
    "plt.xlabel('Values')\n",
    "plt.ylabel('Count')\n",
    "\n",
    "# Display the plot\n",
    "plt.show()"
   ]
  },
  {
   "cell_type": "code",
   "execution_count": 29,
   "metadata": {},
   "outputs": [
    {
     "data": {
      "text/plain": [
       "0.6057692307692307"
      ]
     },
     "execution_count": 29,
     "metadata": {},
     "output_type": "execute_result"
    }
   ],
   "source": [
    "# get fraction of most frequent class\n",
    "fraction = (tooth_labels['tooth_type'] == 'M').astype('int').sum() / tooth_labels.size\n",
    "fraction"
   ]
  },
  {
   "cell_type": "markdown",
   "metadata": {},
   "source": [
    "-> do only MPI classification until we get C samples"
   ]
  },
  {
   "cell_type": "code",
   "execution_count": 30,
   "metadata": {},
   "outputs": [
    {
     "data": {
      "text/plain": [
       "[<InputLayer name=input_layer_4, built=True>,\n",
       " <Conv2D name=conv2d_16, built=True>,\n",
       " <Conv2D name=conv2d_17, built=True>,\n",
       " <MaxPooling2D name=max_pooling2d_8, built=True>,\n",
       " <Dropout name=dropout_12, built=True>,\n",
       " <Conv2D name=conv2d_18, built=True>,\n",
       " <Conv2D name=conv2d_19, built=True>,\n",
       " <MaxPooling2D name=max_pooling2d_9, built=True>,\n",
       " <Dropout name=dropout_13, built=True>,\n",
       " <Flatten name=flatten_4, built=True>,\n",
       " <Dense name=dense_8, built=True>,\n",
       " <Dropout name=dropout_14, built=True>,\n",
       " <Dense name=dense_1, built=True>]"
      ]
     },
     "execution_count": 30,
     "metadata": {},
     "output_type": "execute_result"
    }
   ],
   "source": [
    "for layer in mnist_model.layers[:-1]:\n",
    "    layer.trainable = False\n",
    "\n",
    "new_output = Dense(3, activation='softmax')(mnist_model.layers[-2].output)\n",
    "new_model = Model(mnist_model.input, new_output)\n",
    "new_model.layers"
   ]
  },
  {
   "cell_type": "code",
   "execution_count": 31,
   "metadata": {},
   "outputs": [
    {
     "name": "stdout",
     "output_type": "stream",
     "text": [
      "False\n",
      "False\n",
      "False\n",
      "False\n",
      "False\n",
      "False\n",
      "False\n",
      "False\n",
      "False\n",
      "False\n",
      "False\n",
      "False\n",
      "True\n"
     ]
    }
   ],
   "source": [
    "for layer in new_model.layers:\n",
    "    print(layer.trainable)"
   ]
  },
  {
   "cell_type": "code",
   "execution_count": 57,
   "metadata": {},
   "outputs": [],
   "source": [
    "def preprocess_img(image: np.array):\n",
    "    image = image[:,:-12] #remove side pixels to get rid of number\n",
    "    resized = cv2.resize(image,(28,28))\n",
    "    colorflipped = 255-resized\n",
    "    return colorflipped"
   ]
  },
  {
   "cell_type": "code",
   "execution_count": 33,
   "metadata": {},
   "outputs": [],
   "source": [
    "original_images = glob.glob(\"/home/riikoro/fossil_data/tooth_samples/v3/*.png\")"
   ]
  },
  {
   "cell_type": "code",
   "execution_count": 34,
   "metadata": {},
   "outputs": [
    {
     "data": {
      "text/plain": [
       "(208, 28, 28, 1)"
      ]
     },
     "execution_count": 34,
     "metadata": {},
     "output_type": "execute_result"
    }
   ],
   "source": [
    "# convert teeth to images of shape 28x28, black and white\n",
    "tooth_images = []\n",
    "for i, filename in enumerate(original_images):\n",
    "    img_index = int(filename.split('/')[-1].split('.')[0])\n",
    "    if img_index in tooth_labels.index:\n",
    "        image = cv2.imread(filename, cv2.IMREAD_GRAYSCALE)\n",
    "        tooth_images.append(preprocess_img(image))\n",
    "\n",
    "teeth = np.array(tooth_images)\n",
    "teeth = teeth.reshape(teeth.shape[0], teeth.shape[1], teeth.shape[2], 1) # add rgb dimension, required by model\n",
    "teeth.shape"
   ]
  },
  {
   "cell_type": "code",
   "execution_count": 35,
   "metadata": {},
   "outputs": [
    {
     "data": {
      "text/html": [
       "<div>\n",
       "<style scoped>\n",
       "    .dataframe tbody tr th:only-of-type {\n",
       "        vertical-align: middle;\n",
       "    }\n",
       "\n",
       "    .dataframe tbody tr th {\n",
       "        vertical-align: top;\n",
       "    }\n",
       "\n",
       "    .dataframe thead th {\n",
       "        text-align: right;\n",
       "    }\n",
       "</style>\n",
       "<table border=\"1\" class=\"dataframe\">\n",
       "  <thead>\n",
       "    <tr style=\"text-align: right;\">\n",
       "      <th></th>\n",
       "      <th>m</th>\n",
       "      <th>p</th>\n",
       "      <th>i</th>\n",
       "    </tr>\n",
       "  </thead>\n",
       "  <tbody>\n",
       "    <tr>\n",
       "      <th>0</th>\n",
       "      <td>1</td>\n",
       "      <td>0</td>\n",
       "      <td>0</td>\n",
       "    </tr>\n",
       "    <tr>\n",
       "      <th>3</th>\n",
       "      <td>1</td>\n",
       "      <td>0</td>\n",
       "      <td>0</td>\n",
       "    </tr>\n",
       "    <tr>\n",
       "      <th>4</th>\n",
       "      <td>0</td>\n",
       "      <td>1</td>\n",
       "      <td>0</td>\n",
       "    </tr>\n",
       "    <tr>\n",
       "      <th>5</th>\n",
       "      <td>1</td>\n",
       "      <td>0</td>\n",
       "      <td>0</td>\n",
       "    </tr>\n",
       "    <tr>\n",
       "      <th>7</th>\n",
       "      <td>1</td>\n",
       "      <td>0</td>\n",
       "      <td>0</td>\n",
       "    </tr>\n",
       "    <tr>\n",
       "      <th>...</th>\n",
       "      <td>...</td>\n",
       "      <td>...</td>\n",
       "      <td>...</td>\n",
       "    </tr>\n",
       "    <tr>\n",
       "      <th>227</th>\n",
       "      <td>0</td>\n",
       "      <td>0</td>\n",
       "      <td>1</td>\n",
       "    </tr>\n",
       "    <tr>\n",
       "      <th>228</th>\n",
       "      <td>0</td>\n",
       "      <td>0</td>\n",
       "      <td>1</td>\n",
       "    </tr>\n",
       "    <tr>\n",
       "      <th>229</th>\n",
       "      <td>0</td>\n",
       "      <td>0</td>\n",
       "      <td>1</td>\n",
       "    </tr>\n",
       "    <tr>\n",
       "      <th>230</th>\n",
       "      <td>0</td>\n",
       "      <td>0</td>\n",
       "      <td>1</td>\n",
       "    </tr>\n",
       "    <tr>\n",
       "      <th>231</th>\n",
       "      <td>0</td>\n",
       "      <td>1</td>\n",
       "      <td>0</td>\n",
       "    </tr>\n",
       "  </tbody>\n",
       "</table>\n",
       "<p>208 rows × 3 columns</p>\n",
       "</div>"
      ],
      "text/plain": [
       "     m  p  i\n",
       "0    1  0  0\n",
       "3    1  0  0\n",
       "4    0  1  0\n",
       "5    1  0  0\n",
       "7    1  0  0\n",
       "..  .. .. ..\n",
       "227  0  0  1\n",
       "228  0  0  1\n",
       "229  0  0  1\n",
       "230  0  0  1\n",
       "231  0  1  0\n",
       "\n",
       "[208 rows x 3 columns]"
      ]
     },
     "execution_count": 35,
     "metadata": {},
     "output_type": "execute_result"
    }
   ],
   "source": [
    "# convert labels dataframe to have m p i vector instead of letter\n",
    "labels = pd.DataFrame()\n",
    "labels['m'] = (tooth_labels['tooth_type'] == 'M').astype('int')\n",
    "labels['p'] = (tooth_labels['tooth_type'] == 'P').astype('int')\n",
    "labels['i'] = (tooth_labels['tooth_type'] == 'I').astype('int')\n",
    "labels"
   ]
  },
  {
   "cell_type": "code",
   "execution_count": 36,
   "metadata": {},
   "outputs": [
    {
     "name": "stdout",
     "output_type": "stream",
     "text": [
      "(187, 28, 28, 1) (21, 28, 28, 1) (187, 3) (21, 3)\n"
     ]
    }
   ],
   "source": [
    "\n",
    "X_train, X_val, Y_train, Y_val = train_test_split(teeth, labels, test_size = 0.1, random_state=2)\n",
    "print(X_train.shape, X_val.shape, Y_train.shape, Y_val.shape)"
   ]
  },
  {
   "cell_type": "code",
   "execution_count": 37,
   "metadata": {},
   "outputs": [],
   "source": [
    "model = new_model\n",
    "\n",
    "# steps copied from mnist classifier notebook\n",
    "batch_size = 6 # in each iteration, we consider 128 training examples at once\n",
    "num_epochs = 150\n",
    "X_train = X_train.astype('float32')\n",
    "X_train /= 255 # Normalise data to [0, 1] range\n",
    "\n",
    "model.compile(loss='categorical_crossentropy', # using the cross-entropy loss function\n",
    "              optimizer=Adam(learning_rate=0.001, beta_1=0.9, beta_2=0.999, weight_decay=0.0, amsgrad=False),\n",
    "              # using the Adam optimiser\n",
    "              metrics=['accuracy']) # reporting the accuracy\n",
    "# Set a learning rate annealer\n",
    "learning_rate_reduction = ReduceLROnPlateau(monitor='val_acc', \n",
    "                                            patience=3, \n",
    "                                            verbose=1, \n",
    "                                            factor=0.5, \n",
    "                                            min_lr=0.00001)\n",
    "# With data augmentation to prevent overfitting (accuracy 0.99286)\n",
    "\n",
    "datagen = ImageDataGenerator(\n",
    "        featurewise_center=False,  # set input mean to 0 over the dataset\n",
    "        samplewise_center=False,  # set each sample mean to 0\n",
    "        featurewise_std_normalization=False,  # divide inputs by std of the dataset\n",
    "        samplewise_std_normalization=False,  # divide each input by its std\n",
    "        zca_whitening=False,  # apply ZCA whitening\n",
    "        rotation_range=10,  # randomly rotate images in the range (degrees, 0 to 180)\n",
    "        zoom_range = 0.1, # Randomly zoom image \n",
    "        width_shift_range=0.1,  # randomly shift images horizontally (fraction of total width)\n",
    "        height_shift_range=0.1,  # randomly shift images vertically (fraction of total height)\n",
    "        horizontal_flip=False,  # randomly flip images\n",
    "        vertical_flip=False)  # randomly flip images"
   ]
  },
  {
   "cell_type": "code",
   "execution_count": 38,
   "metadata": {},
   "outputs": [
    {
     "name": "stdout",
     "output_type": "stream",
     "text": [
      "Epoch 1/50\n"
     ]
    },
    {
     "name": "stderr",
     "output_type": "stream",
     "text": [
      "/home/riikoro/anaconda3/lib/python3.11/site-packages/keras/src/trainers/data_adapters/py_dataset_adapter.py:120: UserWarning: Your `PyDataset` class should call `super().__init__(**kwargs)` in its constructor. `**kwargs` can include `workers`, `use_multiprocessing`, `max_queue_size`. Do not pass these arguments to `fit()`, as they will be ignored.\n",
      "  self._warn_if_super_not_called()\n"
     ]
    },
    {
     "name": "stdout",
     "output_type": "stream",
     "text": [
      "31/31 - 2s - 67ms/step - accuracy: 0.4144 - loss: 1.2078 - val_accuracy: 0.3810 - val_loss: 129.0264 - learning_rate: 0.0010\n",
      "Epoch 2/50\n",
      "31/31 - 0s - 2ms/step - accuracy: 0.3333 - loss: 1.2835 - val_accuracy: 0.3810 - val_loss: 127.8282 - learning_rate: 0.0010\n",
      "Epoch 3/50\n"
     ]
    },
    {
     "name": "stderr",
     "output_type": "stream",
     "text": [
      "/home/riikoro/anaconda3/lib/python3.11/site-packages/keras/src/callbacks/callback_list.py:96: UserWarning: Learning rate reduction is conditioned on metric `val_acc` which is not available. Available metrics are: accuracy,loss,val_accuracy,val_loss,learning_rate.\n",
      "  callback.on_epoch_end(epoch, logs)\n",
      "/home/riikoro/anaconda3/lib/python3.11/contextlib.py:155: UserWarning: Your input ran out of data; interrupting training. Make sure that your dataset or generator can generate at least `steps_per_epoch * epochs` batches. You may need to use the `.repeat()` function when building your dataset.\n",
      "  self.gen.throw(typ, value, traceback)\n"
     ]
    },
    {
     "name": "stdout",
     "output_type": "stream",
     "text": [
      "31/31 - 0s - 10ms/step - accuracy: 0.4641 - loss: 1.1206 - val_accuracy: 0.4762 - val_loss: 97.0554 - learning_rate: 0.0010\n",
      "Epoch 4/50\n",
      "31/31 - 0s - 2ms/step - accuracy: 0.6667 - loss: 0.7844 - val_accuracy: 0.4762 - val_loss: 96.0026 - learning_rate: 0.0010\n",
      "Epoch 5/50\n",
      "31/31 - 0s - 12ms/step - accuracy: 0.5083 - loss: 1.0110 - val_accuracy: 0.6667 - val_loss: 88.9758 - learning_rate: 0.0010\n",
      "Epoch 6/50\n",
      "31/31 - 0s - 2ms/step - accuracy: 0.5000 - loss: 1.1175 - val_accuracy: 0.6667 - val_loss: 89.1368 - learning_rate: 0.0010\n",
      "Epoch 7/50\n",
      "31/31 - 1s - 24ms/step - accuracy: 0.4696 - loss: 0.9940 - val_accuracy: 0.7143 - val_loss: 96.9968 - learning_rate: 0.0010\n",
      "Epoch 8/50\n",
      "31/31 - 0s - 5ms/step - accuracy: 0.3333 - loss: 0.9828 - val_accuracy: 0.7143 - val_loss: 96.9766 - learning_rate: 0.0010\n",
      "Epoch 9/50\n",
      "31/31 - 1s - 25ms/step - accuracy: 0.5691 - loss: 0.9122 - val_accuracy: 0.7143 - val_loss: 97.6308 - learning_rate: 0.0010\n",
      "Epoch 10/50\n",
      "31/31 - 0s - 5ms/step - accuracy: 0.6667 - loss: 0.8751 - val_accuracy: 0.7143 - val_loss: 96.8334 - learning_rate: 0.0010\n",
      "Epoch 11/50\n",
      "31/31 - 1s - 25ms/step - accuracy: 0.5138 - loss: 0.9700 - val_accuracy: 0.7143 - val_loss: 91.7846 - learning_rate: 0.0010\n",
      "Epoch 12/50\n",
      "31/31 - 0s - 5ms/step - accuracy: 0.5000 - loss: 0.8971 - val_accuracy: 0.7143 - val_loss: 91.3151 - learning_rate: 0.0010\n",
      "Epoch 13/50\n",
      "31/31 - 1s - 28ms/step - accuracy: 0.5635 - loss: 0.9468 - val_accuracy: 0.7143 - val_loss: 95.3023 - learning_rate: 0.0010\n",
      "Epoch 14/50\n",
      "31/31 - 0s - 5ms/step - accuracy: 0.8333 - loss: 0.6161 - val_accuracy: 0.7143 - val_loss: 96.0939 - learning_rate: 0.0010\n",
      "Epoch 15/50\n",
      "31/31 - 1s - 27ms/step - accuracy: 0.5746 - loss: 0.8973 - val_accuracy: 0.7143 - val_loss: 107.4989 - learning_rate: 0.0010\n",
      "Epoch 16/50\n",
      "31/31 - 0s - 4ms/step - accuracy: 0.1667 - loss: 1.0002 - val_accuracy: 0.7143 - val_loss: 107.2612 - learning_rate: 0.0010\n",
      "Epoch 17/50\n",
      "31/31 - 1s - 24ms/step - accuracy: 0.5359 - loss: 0.9908 - val_accuracy: 0.7143 - val_loss: 99.7670 - learning_rate: 0.0010\n",
      "Epoch 18/50\n",
      "31/31 - 0s - 7ms/step - accuracy: 0.3333 - loss: 1.1764 - val_accuracy: 0.7143 - val_loss: 99.8966 - learning_rate: 0.0010\n",
      "Epoch 19/50\n",
      "31/31 - 0s - 10ms/step - accuracy: 0.5414 - loss: 0.9499 - val_accuracy: 0.6667 - val_loss: 101.7315 - learning_rate: 0.0010\n",
      "Epoch 20/50\n",
      "31/31 - 0s - 2ms/step - accuracy: 0.6667 - loss: 0.8527 - val_accuracy: 0.6667 - val_loss: 101.5754 - learning_rate: 0.0010\n",
      "Epoch 21/50\n",
      "31/31 - 0s - 10ms/step - accuracy: 0.5580 - loss: 0.8806 - val_accuracy: 0.6667 - val_loss: 100.1430 - learning_rate: 0.0010\n",
      "Epoch 22/50\n",
      "31/31 - 0s - 2ms/step - accuracy: 0.6667 - loss: 0.7062 - val_accuracy: 0.6667 - val_loss: 99.5541 - learning_rate: 0.0010\n",
      "Epoch 23/50\n",
      "31/31 - 1s - 22ms/step - accuracy: 0.5580 - loss: 0.8808 - val_accuracy: 0.6190 - val_loss: 95.7128 - learning_rate: 0.0010\n",
      "Epoch 24/50\n",
      "31/31 - 0s - 5ms/step - accuracy: 0.6667 - loss: 0.5679 - val_accuracy: 0.6190 - val_loss: 95.7966 - learning_rate: 0.0010\n",
      "Epoch 25/50\n",
      "31/31 - 1s - 25ms/step - accuracy: 0.5912 - loss: 0.8594 - val_accuracy: 0.6667 - val_loss: 102.8198 - learning_rate: 0.0010\n",
      "Epoch 26/50\n",
      "31/31 - 0s - 5ms/step - accuracy: 0.3333 - loss: 0.8877 - val_accuracy: 0.6667 - val_loss: 102.0061 - learning_rate: 0.0010\n",
      "Epoch 27/50\n",
      "31/31 - 1s - 24ms/step - accuracy: 0.5912 - loss: 0.8722 - val_accuracy: 0.6190 - val_loss: 100.0845 - learning_rate: 0.0010\n",
      "Epoch 28/50\n",
      "31/31 - 0s - 5ms/step - accuracy: 0.5000 - loss: 0.7911 - val_accuracy: 0.6190 - val_loss: 100.2165 - learning_rate: 0.0010\n",
      "Epoch 29/50\n"
     ]
    },
    {
     "name": "stderr",
     "output_type": "stream",
     "text": [
      "2024-10-01 17:26:37.262874: I tensorflow/core/framework/local_rendezvous.cc:404] Local rendezvous is aborting with status: OUT_OF_RANGE: End of sequence\n",
      "\t [[{{node IteratorGetNext}}]]\n"
     ]
    },
    {
     "name": "stdout",
     "output_type": "stream",
     "text": [
      "31/31 - 1s - 27ms/step - accuracy: 0.5470 - loss: 0.9043 - val_accuracy: 0.6190 - val_loss: 97.8261 - learning_rate: 0.0010\n",
      "Epoch 30/50\n",
      "31/31 - 0s - 5ms/step - accuracy: 0.3333 - loss: 0.9440 - val_accuracy: 0.6190 - val_loss: 97.8868 - learning_rate: 0.0010\n",
      "Epoch 31/50\n",
      "31/31 - 1s - 25ms/step - accuracy: 0.5525 - loss: 0.9199 - val_accuracy: 0.6190 - val_loss: 94.6992 - learning_rate: 0.0010\n",
      "Epoch 32/50\n",
      "31/31 - 0s - 5ms/step - accuracy: 0.8333 - loss: 0.5084 - val_accuracy: 0.6190 - val_loss: 94.6709 - learning_rate: 0.0010\n",
      "Epoch 33/50\n",
      "31/31 - 1s - 28ms/step - accuracy: 0.5912 - loss: 0.8587 - val_accuracy: 0.6190 - val_loss: 95.2203 - learning_rate: 0.0010\n",
      "Epoch 34/50\n",
      "31/31 - 0s - 4ms/step - accuracy: 0.8333 - loss: 0.5051 - val_accuracy: 0.6190 - val_loss: 95.4149 - learning_rate: 0.0010\n",
      "Epoch 35/50\n",
      "31/31 - 1s - 27ms/step - accuracy: 0.5912 - loss: 0.8132 - val_accuracy: 0.6190 - val_loss: 97.5086 - learning_rate: 0.0010\n",
      "Epoch 36/50\n",
      "31/31 - 0s - 5ms/step - accuracy: 0.6667 - loss: 1.1404 - val_accuracy: 0.6190 - val_loss: 97.5476 - learning_rate: 0.0010\n",
      "Epoch 37/50\n",
      "31/31 - 1s - 26ms/step - accuracy: 0.5746 - loss: 0.8753 - val_accuracy: 0.6667 - val_loss: 91.0777 - learning_rate: 0.0010\n",
      "Epoch 38/50\n",
      "31/31 - 0s - 5ms/step - accuracy: 0.8333 - loss: 0.5747 - val_accuracy: 0.6667 - val_loss: 91.5028 - learning_rate: 0.0010\n",
      "Epoch 39/50\n",
      "31/31 - 1s - 25ms/step - accuracy: 0.5746 - loss: 0.8914 - val_accuracy: 0.6667 - val_loss: 87.8729 - learning_rate: 0.0010\n",
      "Epoch 40/50\n",
      "31/31 - 0s - 5ms/step - accuracy: 0.6667 - loss: 0.5952 - val_accuracy: 0.6667 - val_loss: 88.2542 - learning_rate: 0.0010\n",
      "Epoch 41/50\n",
      "31/31 - 1s - 26ms/step - accuracy: 0.5856 - loss: 0.8884 - val_accuracy: 0.6667 - val_loss: 92.0016 - learning_rate: 0.0010\n",
      "Epoch 42/50\n",
      "31/31 - 0s - 6ms/step - accuracy: 0.6667 - loss: 0.6942 - val_accuracy: 0.6667 - val_loss: 92.4799 - learning_rate: 0.0010\n",
      "Epoch 43/50\n",
      "31/31 - 1s - 23ms/step - accuracy: 0.6133 - loss: 0.8010 - val_accuracy: 0.6667 - val_loss: 90.1433 - learning_rate: 0.0010\n",
      "Epoch 44/50\n",
      "31/31 - 0s - 2ms/step - accuracy: 0.3333 - loss: 0.8376 - val_accuracy: 0.6667 - val_loss: 90.0341 - learning_rate: 0.0010\n",
      "Epoch 45/50\n",
      "31/31 - 1s - 23ms/step - accuracy: 0.5967 - loss: 0.8392 - val_accuracy: 0.6667 - val_loss: 89.8551 - learning_rate: 0.0010\n",
      "Epoch 46/50\n",
      "31/31 - 0s - 5ms/step - accuracy: 0.6667 - loss: 0.8957 - val_accuracy: 0.6667 - val_loss: 89.2391 - learning_rate: 0.0010\n",
      "Epoch 47/50\n",
      "31/31 - 1s - 25ms/step - accuracy: 0.5746 - loss: 0.8687 - val_accuracy: 0.6667 - val_loss: 81.7145 - learning_rate: 0.0010\n",
      "Epoch 48/50\n",
      "31/31 - 0s - 5ms/step - accuracy: 0.8333 - loss: 0.4415 - val_accuracy: 0.6667 - val_loss: 81.7938 - learning_rate: 0.0010\n",
      "Epoch 49/50\n",
      "31/31 - 1s - 25ms/step - accuracy: 0.5525 - loss: 0.7878 - val_accuracy: 0.6667 - val_loss: 90.4911 - learning_rate: 0.0010\n",
      "Epoch 50/50\n",
      "31/31 - 0s - 5ms/step - accuracy: 0.5000 - loss: 0.8454 - val_accuracy: 0.6667 - val_loss: 90.3532 - learning_rate: 0.0010\n",
      "\u001b[1m6/6\u001b[0m \u001b[32m━━━━━━━━━━━━━━━━━━━━\u001b[0m\u001b[37m\u001b[0m \u001b[1m0s\u001b[0m 22ms/step - accuracy: 0.6272 - loss: 0.7706\n"
     ]
    },
    {
     "data": {
      "text/plain": [
       "[0.7662632465362549, 0.6203208565711975]"
      ]
     },
     "execution_count": 38,
     "metadata": {},
     "output_type": "execute_result"
    }
   ],
   "source": [
    "history = model.fit(datagen.flow(X_train,Y_train, batch_size=batch_size),\n",
    "                              epochs = 50, validation_data = (X_val,Y_val),\n",
    "                              verbose = 2, steps_per_epoch=X_train.shape[0] // batch_size\n",
    "                              , callbacks=[learning_rate_reduction])"
   ]
  },
  {
   "cell_type": "code",
   "execution_count": 74,
   "metadata": {},
   "outputs": [
    {
     "name": "stdout",
     "output_type": "stream",
     "text": [
      "\u001b[1m6/6\u001b[0m \u001b[32m━━━━━━━━━━━━━━━━━━━━\u001b[0m\u001b[37m\u001b[0m \u001b[1m0s\u001b[0m 27ms/step - accuracy: 0.6272 - loss: 0.7706\n"
     ]
    },
    {
     "data": {
      "text/plain": [
       "0.6203208565711975"
      ]
     },
     "execution_count": 74,
     "metadata": {},
     "output_type": "execute_result"
    }
   ],
   "source": [
    "loss, acc = model.evaluate(X_train, Y_train, verbose=1)\n",
    "acc"
   ]
  },
  {
   "cell_type": "code",
   "execution_count": 39,
   "metadata": {},
   "outputs": [
    {
     "name": "stdout",
     "output_type": "stream",
     "text": [
      "\u001b[1m1/1\u001b[0m \u001b[32m━━━━━━━━━━━━━━━━━━━━\u001b[0m\u001b[37m\u001b[0m \u001b[1m0s\u001b[0m 63ms/step - accuracy: 0.6667 - loss: 90.3532\n"
     ]
    },
    {
     "data": {
      "text/plain": [
       "0.6666666865348816"
      ]
     },
     "execution_count": 39,
     "metadata": {},
     "output_type": "execute_result"
    }
   ],
   "source": [
    "test_loss, test_acc = model.evaluate(X_val, Y_val)\n",
    "test_acc"
   ]
  },
  {
   "cell_type": "code",
   "execution_count": 71,
   "metadata": {},
   "outputs": [
    {
     "name": "stdout",
     "output_type": "stream",
     "text": [
      "\u001b[1m1/1\u001b[0m \u001b[32m━━━━━━━━━━━━━━━━━━━━\u001b[0m\u001b[37m\u001b[0m \u001b[1m0s\u001b[0m 27ms/step\n",
      "\u001b[1m1/1\u001b[0m \u001b[32m━━━━━━━━━━━━━━━━━━━━\u001b[0m\u001b[37m\u001b[0m \u001b[1m0s\u001b[0m 29ms/step\n",
      "\u001b[1m1/1\u001b[0m \u001b[32m━━━━━━━━━━━━━━━━━━━━\u001b[0m\u001b[37m\u001b[0m \u001b[1m0s\u001b[0m 27ms/step\n",
      "\u001b[1m1/1\u001b[0m \u001b[32m━━━━━━━━━━━━━━━━━━━━\u001b[0m\u001b[37m\u001b[0m \u001b[1m0s\u001b[0m 28ms/step\n",
      "\u001b[1m1/1\u001b[0m \u001b[32m━━━━━━━━━━━━━━━━━━━━\u001b[0m\u001b[37m\u001b[0m \u001b[1m0s\u001b[0m 27ms/step\n",
      "\u001b[1m1/1\u001b[0m \u001b[32m━━━━━━━━━━━━━━━━━━━━\u001b[0m\u001b[37m\u001b[0m \u001b[1m0s\u001b[0m 26ms/step\n",
      "\u001b[1m1/1\u001b[0m \u001b[32m━━━━━━━━━━━━━━━━━━━━\u001b[0m\u001b[37m\u001b[0m \u001b[1m0s\u001b[0m 29ms/step\n",
      "\u001b[1m1/1\u001b[0m \u001b[32m━━━━━━━━━━━━━━━━━━━━\u001b[0m\u001b[37m\u001b[0m \u001b[1m0s\u001b[0m 27ms/step\n",
      "\u001b[1m1/1\u001b[0m \u001b[32m━━━━━━━━━━━━━━━━━━━━\u001b[0m\u001b[37m\u001b[0m \u001b[1m0s\u001b[0m 27ms/step\n",
      "\u001b[1m1/1\u001b[0m \u001b[32m━━━━━━━━━━━━━━━━━━━━\u001b[0m\u001b[37m\u001b[0m \u001b[1m0s\u001b[0m 27ms/step\n",
      "\u001b[1m1/1\u001b[0m \u001b[32m━━━━━━━━━━━━━━━━━━━━\u001b[0m\u001b[37m\u001b[0m \u001b[1m0s\u001b[0m 28ms/step\n",
      "\u001b[1m1/1\u001b[0m \u001b[32m━━━━━━━━━━━━━━━━━━━━\u001b[0m\u001b[37m\u001b[0m \u001b[1m0s\u001b[0m 28ms/step\n",
      "\u001b[1m1/1\u001b[0m \u001b[32m━━━━━━━━━━━━━━━━━━━━\u001b[0m\u001b[37m\u001b[0m \u001b[1m0s\u001b[0m 27ms/step\n",
      "\u001b[1m1/1\u001b[0m \u001b[32m━━━━━━━━━━━━━━━━━━━━\u001b[0m\u001b[37m\u001b[0m \u001b[1m0s\u001b[0m 29ms/step\n",
      "\u001b[1m1/1\u001b[0m \u001b[32m━━━━━━━━━━━━━━━━━━━━\u001b[0m\u001b[37m\u001b[0m \u001b[1m0s\u001b[0m 32ms/step\n",
      "\u001b[1m1/1\u001b[0m \u001b[32m━━━━━━━━━━━━━━━━━━━━\u001b[0m\u001b[37m\u001b[0m \u001b[1m0s\u001b[0m 29ms/step\n",
      "\u001b[1m1/1\u001b[0m \u001b[32m━━━━━━━━━━━━━━━━━━━━\u001b[0m\u001b[37m\u001b[0m \u001b[1m0s\u001b[0m 35ms/step\n",
      "\u001b[1m1/1\u001b[0m \u001b[32m━━━━━━━━━━━━━━━━━━━━\u001b[0m\u001b[37m\u001b[0m \u001b[1m0s\u001b[0m 31ms/step\n",
      "\u001b[1m1/1\u001b[0m \u001b[32m━━━━━━━━━━━━━━━━━━━━\u001b[0m\u001b[37m\u001b[0m \u001b[1m0s\u001b[0m 29ms/step\n",
      "\u001b[1m1/1\u001b[0m \u001b[32m━━━━━━━━━━━━━━━━━━━━\u001b[0m\u001b[37m\u001b[0m \u001b[1m0s\u001b[0m 29ms/step\n",
      "\u001b[1m1/1\u001b[0m \u001b[32m━━━━━━━━━━━━━━━━━━━━\u001b[0m\u001b[37m\u001b[0m \u001b[1m0s\u001b[0m 28ms/step\n",
      "Accuracy: 0.6666666666666666\n"
     ]
    },
    {
     "data": {
      "image/png": "[encoded data removed]",
      "text/plain": [
       "<Figure size 20000x2100 with 21 Axes>"
      ]
     },
     "metadata": {},
     "output_type": "display_data"
    }
   ],
   "source": [
    "def id_to_tooth(id):\n",
    "    if id == 0:\n",
    "        return 'M'\n",
    "    elif id == 1:\n",
    "        return 'P'\n",
    "    elif id == 2:\n",
    "        return 'I'\n",
    "\n",
    "correct = 0\n",
    "test_data_size = X_val.shape[0]\n",
    "fig, ax = plt.subplots(test_data_size, figsize= (200, test_data_size))\n",
    "plt.subplots_adjust(hspace=2)\n",
    "for i, img_i in enumerate(Y_val.index):\n",
    "    image = cv2.imread(f'/home/riikoro/fossil_data/tooth_samples/v3/{img_i}.png', cv2.IMREAD_GRAYSCALE)\n",
    "\n",
    "    label_i = Y_val.loc[img_i]\n",
    "    label = id_to_tooth(np.argmax(label_i))\n",
    "\n",
    "    preprocessed = preprocess_img(image)\n",
    "    pred = model.predict(preprocessed.reshape(1,28,28,1))\n",
    "    pred_tooth = id_to_tooth(np.argmax(pred))\n",
    "    correct_tooth = label\n",
    "    fig_title = f'Predicted: {pred_tooth}, Correct: {correct_tooth}'\n",
    "    if pred_tooth == correct_tooth:\n",
    "        correct += 1\n",
    "\n",
    "    ax[i].imshow(image, cmap='gray')\n",
    "    ax[i].axis('off')\n",
    "    ax[i].set_title(fig_title)\n",
    "\n",
    "print(f'Accuracy: {correct/test_data_size}')"
   ]
  },
  {
   "cell_type": "code",
   "execution_count": 75,
   "metadata": {},
   "outputs": [
    {
     "name": "stdout",
     "output_type": "stream",
     "text": [
      "env: MLFLOW_TRACKING_URI=sqlite:///../mlflow.db\n"
     ]
    }
   ],
   "source": [
    "%env MLFLOW_TRACKING_URI=sqlite:///../mlflow.db\n",
    "mlflow.set_experiment(\"MPIC\")\n",
    "\n",
    "params = {\n",
    "    'data_v': 3,\n",
    "    'train_size': X_train.shape[0],\n",
    "    'test_size': X_val.shape[0],\n",
    "    'batch_size': batch_size,\n",
    "    'num_epochs': num_epochs,\n",
    "    'base_model_path': base_model_path\n",
    "}\n",
    "\n",
    "# Start an MLflow run\n",
    "with mlflow.start_run():\n",
    "    # Log the hyperparameters\n",
    "    mlflow.log_params(params)\n",
    "\n",
    "    # Log the loss metric\n",
    "    mlflow.log_metric(\"most frequent class occurence fraction\", fraction)\n",
    "    mlflow.log_metric(\"training accuracy\", acc)\n",
    "    mlflow.log_metric(\"test accuracy\", test_acc)\n",
    "\n",
    "    # Set a tag that we can use to remind ourselves what this run was for\n",
    "    mlflow.set_tag(\"info\", \"Initial test using Fort Tenan Catalogue extractions, problem: major class imbalance\")"
   ]
  },
  {
   "cell_type": "code",
   "execution_count": null,
   "metadata": {},
   "outputs": [],
   "source": []
  }
 ],
 "metadata": {
  "kernelspec": {
   "display_name": "base",
   "language": "python",
   "name": "python3"
  },
  "language_info": {
   "codemirror_mode": {
    "name": "ipython",
    "version": 3
   },
   "file_extension": ".py",
   "mimetype": "text/x-python",
   "name": "python",
   "nbconvert_exporter": "python",
   "pygments_lexer": "ipython3",
   "version": "3.11.5"
  }
 },
 "nbformat": 4,
 "nbformat_minor": 2
}
