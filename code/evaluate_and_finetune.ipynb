{
 "cells": [
  {
   "cell_type": "markdown",
   "metadata": {},
   "source": [
    "# TRocr fine-tuning & evaluation\n",
    "\n",
    "emulated from: https://colab.research.google.com/github/NielsRogge/Transformers-Tutorials/blob/master/TrOCR/Evaluating_TrOCR_base_handwritten_on_the_IAM_test_set.ipynb?pli=1&authuser=1#scrollTo=Nkaki4CgZJNw"
   ]
  },
  {
   "cell_type": "code",
   "execution_count": 1,
   "metadata": {},
   "outputs": [],
   "source": [
    "import pandas as pd\n",
    "import numpy as np\n",
    "import os\n",
    "\n",
    "import torch\n",
    "from torch.utils.data import Dataset\n",
    "from PIL import Image\n",
    "\n",
    "from transformers import TrOCRProcessor, VisionEncoderDecoderModel\n",
    "from torch.utils.data import DataLoader\n",
    "\n",
    "from datasets import load_metric\n",
    "from difflib import SequenceMatcher\n",
    "import mlflow\n",
    "\n",
    "# fine-tuning dependencies\n",
    "from sklearn.model_selection import train_test_split"
   ]
  },
  {
   "cell_type": "markdown",
   "metadata": {},
   "source": [
    "Experiment parameters (log these to MLflow)"
   ]
  },
  {
   "cell_type": "code",
   "execution_count": 90,
   "metadata": {},
   "outputs": [],
   "source": [
    "DATA_DIR = '/home/riikoro/fossil_data/tooth_samples'\n",
    "DATA_VERSIONS = [1, 2]\n",
    "MAX_TARGET_LENGTH = 64 \n",
    "MODEL = 'microsoft/trocr-large-handwritten'\n",
    "BATCH_SIZE = 2\n",
    "NUM_EPOCHS = 3 \n",
    "LEARNING_RATE = 5e-4 # changed from -5 to speed up convergence"
   ]
  },
  {
   "cell_type": "code",
   "execution_count": 3,
   "metadata": {},
   "outputs": [
    {
     "data": {
      "text/html": [
       "<div>\n",
       "<style scoped>\n",
       "    .dataframe tbody tr th:only-of-type {\n",
       "        vertical-align: middle;\n",
       "    }\n",
       "\n",
       "    .dataframe tbody tr th {\n",
       "        vertical-align: top;\n",
       "    }\n",
       "\n",
       "    .dataframe thead th {\n",
       "        text-align: right;\n",
       "    }\n",
       "</style>\n",
       "<table border=\"1\" class=\"dataframe\">\n",
       "  <thead>\n",
       "    <tr style=\"text-align: right;\">\n",
       "      <th></th>\n",
       "      <th>index</th>\n",
       "      <th>filename</th>\n",
       "      <th>text</th>\n",
       "    </tr>\n",
       "  </thead>\n",
       "  <tbody>\n",
       "    <tr>\n",
       "      <th>0</th>\n",
       "      <td>0</td>\n",
       "      <td>v1/0.png</td>\n",
       "      <td>Distal half left humerus with broken medial</td>\n",
       "    </tr>\n",
       "    <tr>\n",
       "      <th>1</th>\n",
       "      <td>1</td>\n",
       "      <td>v1/1.png</td>\n",
       "      <td>Isolated</td>\n",
       "    </tr>\n",
       "    <tr>\n",
       "      <th>2</th>\n",
       "      <td>2</td>\n",
       "      <td>v1/2.png</td>\n",
       "      <td>LI2̌, RM̱2̌ &amp; tooth frags (8)</td>\n",
       "    </tr>\n",
       "    <tr>\n",
       "      <th>3</th>\n",
       "      <td>3</td>\n",
       "      <td>v1/3.png</td>\n",
       "      <td>LM2̌</td>\n",
       "    </tr>\n",
       "    <tr>\n",
       "      <th>4</th>\n",
       "      <td>4</td>\n",
       "      <td>v1/4.png</td>\n",
       "      <td>right maxilla with frag of zygomatic and</td>\n",
       "    </tr>\n",
       "    <tr>\n",
       "      <th>...</th>\n",
       "      <td>...</td>\n",
       "      <td>...</td>\n",
       "      <td>...</td>\n",
       "    </tr>\n",
       "    <tr>\n",
       "      <th>94</th>\n",
       "      <td>27</td>\n",
       "      <td>v2/28.png</td>\n",
       "      <td>Px̄ frag.</td>\n",
       "    </tr>\n",
       "    <tr>\n",
       "      <th>95</th>\n",
       "      <td>28</td>\n",
       "      <td>v2/29.png</td>\n",
       "      <td>Prox. phalanx</td>\n",
       "    </tr>\n",
       "    <tr>\n",
       "      <th>96</th>\n",
       "      <td>29</td>\n",
       "      <td>v2/30.png</td>\n",
       "      <td>Edentulous md. (2 unassoc. elemen</td>\n",
       "    </tr>\n",
       "    <tr>\n",
       "      <th>97</th>\n",
       "      <td>30</td>\n",
       "      <td>v2/31.png</td>\n",
       "      <td>Prox. intermediate phal</td>\n",
       "    </tr>\n",
       "    <tr>\n",
       "      <th>98</th>\n",
       "      <td>31</td>\n",
       "      <td>v2/32.png</td>\n",
       "      <td>• I̲ frag.</td>\n",
       "    </tr>\n",
       "  </tbody>\n",
       "</table>\n",
       "<p>99 rows × 3 columns</p>\n",
       "</div>"
      ],
      "text/plain": [
       "    index   filename                                         text\n",
       "0       0   v1/0.png  Distal half left humerus with broken medial\n",
       "1       1   v1/1.png                                     Isolated\n",
       "2       2   v1/2.png                LI2̌, RM̱2̌ & tooth frags (8)\n",
       "3       3   v1/3.png                                         LM2̌\n",
       "4       4   v1/4.png     right maxilla with frag of zygomatic and\n",
       "..    ...        ...                                          ...\n",
       "94     27  v2/28.png                                    Px̄ frag.\n",
       "95     28  v2/29.png                                Prox. phalanx\n",
       "96     29  v2/30.png            Edentulous md. (2 unassoc. elemen\n",
       "97     30  v2/31.png                      Prox. intermediate phal\n",
       "98     31  v2/32.png                                   • I̲ frag.\n",
       "\n",
       "[99 rows x 3 columns]"
      ]
     },
     "execution_count": 3,
     "metadata": {},
     "output_type": "execute_result"
    }
   ],
   "source": [
    "dfs = []\n",
    "for version in DATA_VERSIONS:\n",
    "    df = pd.read_csv(os.path.join(DATA_DIR, f'v{version}', 'labels.tsv'), sep='\\t')\n",
    "    df['filename'] = f'v{version}/' + df['filename']\n",
    "    dfs.append(df)\n",
    "# label_dfs = [ for data_dir in data_dirs]\n",
    "# label_dfs[0].head()\n",
    "# TODO: read v2 labels\n",
    "label_df = pd.concat(dfs, axis=0).reset_index()\n",
    "label_df"
   ]
  },
  {
   "cell_type": "code",
   "execution_count": 4,
   "metadata": {},
   "outputs": [
    {
     "name": "stdout",
     "output_type": "stream",
     "text": [
      "Distal half left humerus with broken medial\n"
     ]
    }
   ],
   "source": [
    "print(label_df['text'][0])"
   ]
  },
  {
   "cell_type": "code",
   "execution_count": 5,
   "metadata": {},
   "outputs": [],
   "source": [
    "class FossilDataset(Dataset):\n",
    "    def __init__(self, root_dir, df, processor, max_target_length):\n",
    "        self.root_dir = root_dir\n",
    "        self.df = df\n",
    "        self.processor = processor\n",
    "        self.max_target_length = max_target_length\n",
    "\n",
    "    def __len__(self):\n",
    "        return len(self.df)\n",
    "\n",
    "    def __getitem__(self, idx):\n",
    "        # get file name + text \n",
    "        file_name = self.df['filename'][idx]\n",
    "        text = self.df['text'][idx]\n",
    "\n",
    "        # prepare image (i.e. resize + normalize)\n",
    "        image = Image.open(os.path.join(self.root_dir, file_name)).convert(\"RGB\")\n",
    "        pixel_values = self.processor(image, return_tensors=\"pt\").pixel_values\n",
    "        # add labels (input_ids) by encoding the text\n",
    "        labels = self.processor.tokenizer(text, \n",
    "                                          padding=\"max_length\", \n",
    "                                          max_length=self.max_target_length).input_ids\n",
    "        # important: make sure that PAD tokens are ignored by the loss function\n",
    "        labels = [label if label != self.processor.tokenizer.pad_token_id else -100 for label in labels]\n",
    "\n",
    "        encoding = {\"pixel_values\": pixel_values.squeeze(), \"labels\": torch.tensor(labels)}\n",
    "        return encoding"
   ]
  },
  {
   "cell_type": "code",
   "execution_count": 92,
   "metadata": {},
   "outputs": [],
   "source": [
    "processor = TrOCRProcessor.from_pretrained(MODEL)\n",
    "test_dataset = FossilDataset(root_dir=DATA_DIR, df=label_df, processor=processor, max_target_length=MAX_TARGET_LENGTH)\n",
    "test_dataloader = DataLoader(test_dataset, batch_size=BATCH_SIZE)"
   ]
  },
  {
   "cell_type": "code",
   "execution_count": 93,
   "metadata": {},
   "outputs": [
    {
     "name": "stdout",
     "output_type": "stream",
     "text": [
      "pixel_values torch.Size([2, 3, 384, 384])\n",
      "labels torch.Size([2, 64])\n"
     ]
    }
   ],
   "source": [
    "batch = next(iter(test_dataloader))\n",
    "for k,v in batch.items():\n",
    "  print(k, v.shape)"
   ]
  },
  {
   "cell_type": "code",
   "execution_count": 94,
   "metadata": {},
   "outputs": [
    {
     "data": {
      "text/plain": [
       "['Distal half left humerus with broken medial', 'Isolated']"
      ]
     },
     "execution_count": 94,
     "metadata": {},
     "output_type": "execute_result"
    }
   ],
   "source": [
    "labels = batch[\"labels\"]\n",
    "labels[labels == -100] = processor.tokenizer.pad_token_id\n",
    "label_str = processor.batch_decode(labels, skip_special_tokens=True)\n",
    "label_str"
   ]
  },
  {
   "cell_type": "markdown",
   "metadata": {},
   "source": [
    "## Evaluate"
   ]
  },
  {
   "cell_type": "code",
   "execution_count": 99,
   "metadata": {},
   "outputs": [
    {
     "data": {
      "text/plain": [
       "VisionEncoderDecoderModel(\n",
       "  (encoder): ViTModel(\n",
       "    (embeddings): ViTEmbeddings(\n",
       "      (patch_embeddings): ViTPatchEmbeddings(\n",
       "        (projection): Conv2d(3, 1024, kernel_size=(16, 16), stride=(16, 16))\n",
       "      )\n",
       "      (dropout): Dropout(p=0.0, inplace=False)\n",
       "    )\n",
       "    (encoder): ViTEncoder(\n",
       "      (layer): ModuleList(\n",
       "        (0-23): 24 x ViTLayer(\n",
       "          (attention): ViTAttention(\n",
       "            (attention): ViTSelfAttention(\n",
       "              (query): Linear(in_features=1024, out_features=1024, bias=False)\n",
       "              (key): Linear(in_features=1024, out_features=1024, bias=False)\n",
       "              (value): Linear(in_features=1024, out_features=1024, bias=False)\n",
       "              (dropout): Dropout(p=0.0, inplace=False)\n",
       "            )\n",
       "            (output): ViTSelfOutput(\n",
       "              (dense): Linear(in_features=1024, out_features=1024, bias=True)\n",
       "              (dropout): Dropout(p=0.0, inplace=False)\n",
       "            )\n",
       "          )\n",
       "          (intermediate): ViTIntermediate(\n",
       "            (dense): Linear(in_features=1024, out_features=4096, bias=True)\n",
       "            (intermediate_act_fn): GELUActivation()\n",
       "          )\n",
       "          (output): ViTOutput(\n",
       "            (dense): Linear(in_features=4096, out_features=1024, bias=True)\n",
       "            (dropout): Dropout(p=0.0, inplace=False)\n",
       "          )\n",
       "          (layernorm_before): LayerNorm((1024,), eps=1e-12, elementwise_affine=True)\n",
       "          (layernorm_after): LayerNorm((1024,), eps=1e-12, elementwise_affine=True)\n",
       "        )\n",
       "      )\n",
       "    )\n",
       "    (layernorm): LayerNorm((1024,), eps=1e-12, elementwise_affine=True)\n",
       "    (pooler): ViTPooler(\n",
       "      (dense): Linear(in_features=1024, out_features=1024, bias=True)\n",
       "      (activation): Tanh()\n",
       "    )\n",
       "  )\n",
       "  (decoder): TrOCRForCausalLM(\n",
       "    (model): TrOCRDecoderWrapper(\n",
       "      (decoder): TrOCRDecoder(\n",
       "        (embed_tokens): Embedding(50265, 1024, padding_idx=1)\n",
       "        (embed_positions): TrOCRLearnedPositionalEmbedding(514, 1024)\n",
       "        (layernorm_embedding): LayerNorm((1024,), eps=1e-05, elementwise_affine=True)\n",
       "        (layers): ModuleList(\n",
       "          (0-11): 12 x TrOCRDecoderLayer(\n",
       "            (self_attn): TrOCRAttention(\n",
       "              (k_proj): Linear(in_features=1024, out_features=1024, bias=True)\n",
       "              (v_proj): Linear(in_features=1024, out_features=1024, bias=True)\n",
       "              (q_proj): Linear(in_features=1024, out_features=1024, bias=True)\n",
       "              (out_proj): Linear(in_features=1024, out_features=1024, bias=True)\n",
       "            )\n",
       "            (activation_fn): GELUActivation()\n",
       "            (self_attn_layer_norm): LayerNorm((1024,), eps=1e-05, elementwise_affine=True)\n",
       "            (encoder_attn): TrOCRAttention(\n",
       "              (k_proj): Linear(in_features=1024, out_features=1024, bias=True)\n",
       "              (v_proj): Linear(in_features=1024, out_features=1024, bias=True)\n",
       "              (q_proj): Linear(in_features=1024, out_features=1024, bias=True)\n",
       "              (out_proj): Linear(in_features=1024, out_features=1024, bias=True)\n",
       "            )\n",
       "            (encoder_attn_layer_norm): LayerNorm((1024,), eps=1e-05, elementwise_affine=True)\n",
       "            (fc1): Linear(in_features=1024, out_features=4096, bias=True)\n",
       "            (fc2): Linear(in_features=4096, out_features=1024, bias=True)\n",
       "            (final_layer_norm): LayerNorm((1024,), eps=1e-05, elementwise_affine=True)\n",
       "          )\n",
       "        )\n",
       "      )\n",
       "    )\n",
       "    (output_projection): Linear(in_features=1024, out_features=50265, bias=False)\n",
       "  )\n",
       ")"
      ]
     },
     "execution_count": 99,
     "metadata": {},
     "output_type": "execute_result"
    }
   ],
   "source": [
    "device = 'cpu' # no gpu available\n",
    "\n",
    "# model = VisionEncoderDecoderModel.from_pretrained(MODEL) # for initial, untuned model\n",
    "model = VisionEncoderDecoderModel.from_pretrained('./output/') # the fine-tuned model\n",
    "model.to(device)"
   ]
  },
  {
   "cell_type": "code",
   "execution_count": 100,
   "metadata": {},
   "outputs": [],
   "source": [
    "cer = load_metric(\"cer\")"
   ]
  },
  {
   "cell_type": "code",
   "execution_count": 101,
   "metadata": {},
   "outputs": [
    {
     "name": "stdout",
     "output_type": "stream",
     "text": [
      "Running evaluation...\n"
     ]
    },
    {
     "data": {
      "application/vnd.jupyter.widget-view+json": {
       "model_id": "535865126192428d88a269492efee6be",
       "version_major": 2,
       "version_minor": 0
      },
      "text/plain": [
       "  0%|          | 0/50 [00:00<?, ?it/s]"
      ]
     },
     "metadata": {},
     "output_type": "display_data"
    },
    {
     "name": "stdout",
     "output_type": "stream",
     "text": [
      "['Isolated with humal', 'Isolated']\n",
      "['Distal half left humerus with broken medial', 'Isolated']\n",
      "['Lt. LM1�', 'LM2�']\n",
      "['LI2̌, RM̱2̌ & tooth frags (8)', 'LM2̌']\n",
      "[' right right rightfragal', 'Isolated']\n",
      "['right maxilla with frag of zygomatic and', 'Isolated']\n",
      "['alterior', 'fral']\n",
      "['anterior', 'man']\n",
      "['Isolated R2̌��', 'LeftLeft end with P4̌']\n",
      "['Isolated RC̱, RP4̱̂, RM', 'Left mandible frag with broken P4̌, M1̌ and']\n",
      "['Isolated', 'R2̂�']\n",
      "['Isolated', 'M3̂']\n",
      "['Isolated fragag with', 'Shaft lacking humal']\n",
      "['frag wi I2̄̌ alveolus, croots P3̄̌-M2̄̌', 'Shaft lacking distal & proximal ends']\n",
      "['fragible humal�', 'proximal right right']\n",
      "['Frag left mandibular corpus lacking teeth', 'proximal frag. right ulna']\n",
      "['L mandible frag with muš��', 'A1̌ humal']\n",
      "['L mandible frag with roots M2̌-̌3̌', 'A: 4 upper premolar (P3̱̌) unerrupted. L. mbs']\n",
      "['frag. proximal', 'Rt.']\n",
      "['frag. right ulna proximal erd. wt. shaft.', 'lokote']\n",
      "['fragible humus�', '']\n",
      "['A = frag left mandible corpus with M3̌ roots', 'M3̂']\n",
      "['fratable frag with P4̌̌��', 'Maudible lacking']\n",
      "['RT.mandible frag with P4̌-M2̌', 'Mandible lacking left ascending ramus;']\n",
      "['R4̂��', 'Lt.']\n",
      "['Rt P4̄̌', 'LM1̂']\n",
      "['Brokenimal', 'Isolated RM1̌']\n",
      "['Broken molar!(M̱)', 'Isolated RM2̌, RM3̌, broken LM3̌']\n",
      "['LM mandible frag with M1̌', 'Proximal right right']\n",
      "['L mandible frag with M1̌-̌3̌', 'Proximal part right femur']\n",
      "['R mandible with M3̌�', 'LeftLeftLeft']\n",
      "['A= R mandible with M2̄̌-̌3̄̌ M1̌ root', 'Left ulna lacking distal epiphysis']\n",
      "['A & distal', 'Rt.']\n",
      "['A = distal end left femur', 'Rt.']\n",
      "['Proximal', 'ProProximal right']\n",
      "['proximal', 'Proximal & distal end right femur']\n",
      "['RightRightRightRight humer. prox.', 'LeftLeftLeft m3̌�']\n",
      "['Right humerus lacking prox. epiphysis', 'Left mandible frag with M3̌']\n",
      "['��', 'Lt.']\n",
      "['LM2̱̂', 'LM3̌']\n",
      "['RightRightRight right right right', 'Isolated R1̌ LM1, LM1� LM2� LM3̌� LM2, LM3� LM3, LM2� LM, LM,� LM4� LM1� LM� LM LM3 LM3� LM1 LM3. LM1� LM3LM3']\n",
      "['Right mandible frag with broken M1̌-̌3̌', 'Isolated LM1̌, RM3̌, LM3̌, R1/2LM1̌']\n",
      "['R3̌ with C1̌�', 'frag.']\n",
      "['A= R mandible with C̄-M1̌', 'frontal frag']\n",
      "['Prox.', 'fragible']\n",
      "['A= Lt tibia', 'lokote']\n",
      "['Mandible frag� LM1� LM3̌��', 'Isolated LM4�']\n",
      "['Mandible frag with errupting LM2̌, LM3̌ &', 'Isolated LP3̌, LP4̌, broken LM2̌']\n",
      "['Isolated', 'R mandible ( partial']\n",
      "['Isolated', 'R mandible & partial skeleton (P.T.O)']\n",
      "['Distal right humerus', 'Rt half humerus']\n",
      "['Distal half right humerus', 'A = shaft L humerus frag.']\n",
      "['Lt. Schalus frag', 'L mandible frag with M4̌']\n",
      "['Lt. Edentulous frag', 'L mandible frag with M2̌-̌3̌']\n",
      "['R3̌', 'Isolated LM1̌�']\n",
      "['B= RM3̂ & tooth frags (12)', 'Isolated L.P4̌; R.M1̌; R.M2̌; L.M2̌;']\n",
      "['Isolated RM1� LM3� LM1�LM3�', 'LeftLeftLeft humag with P4�̂̂�̱��������']\n",
      "['Isolated L.C̱, RM3̱̂, LM3̱̂, LM2̱̂, LM3̌', 'Left max.frag with P4̱̂M3̂']\n",
      "['Left Left LeftLeft humal with with with�', 'R. Crox�']\n",
      "['A= Left mandibular corpus with teeth M1̄̌-M3̄̌', 'R.C̄root']\n",
      "['mus frag with2�', 'Prox. radius']\n",
      "['max frag with 1/2M2̂-M3̂', 'prox R radius']\n",
      "['L calal', 'Distal Left humerus']\n",
      "['L calcaneum', 'Distal left humerus frag']\n",
      "['ProProx.', 'A : prox prox prox']\n",
      "['Proximal end right femur (goeates trochauter', 'A: prox']\n",
      "['R mandible frag with P3�̌̌��', 'Prox (']\n",
      "['R mandible frag with roots P3̌-M3̌', 'P3̄̌ (Crown)']\n",
      "['Prox. frag.', 'M2�']\n",
      "['? P4̱̂ frag.', 'Molar frag.']\n",
      "['Prox. Crag.', 'Prox. frag.']\n",
      "['P3̱̂ frag. (Crown)', '? Mx̲ frag.']\n",
      "['Tusk frag.', 'Proxolar frag. P3̱']\n",
      "['Tusk frag.', 'Premolar frag -? P3̌']\n",
      "['Pro frag. frag.', 'Proxolar frag. ( C3�']\n",
      "['Metapodial frag.', 'Premolar frag. (Crow']\n",
      "['Prox.', '? Distalimal']\n",
      "['Prox. metapodial', '? Distal metapodial']\n",
      "['Prox.', 'Prox. Scapula']\n",
      "['P3̌ Crown', 'Prox. Scapula frag']\n",
      "['frag.', 'Rt.']\n",
      "['frag.', 'Rt. I2̄̌ frag.']\n",
      "[' humer ( ( Complete (', 'Podal']\n",
      "['Humerus (Complete)', 'Podial']\n",
      "['? Scapula-', 'Lt. P3̱']\n",
      "['? Scapula', 'Lt. P3̄̌']\n",
      "['Podal ( Complete (', '?Podial']\n",
      "['Podial (Complete)', '?Podial']\n",
      "['Rt. frag with P4�', 'Lt. frag.M2̌']\n",
      "['? Rt. Md. frag. wt Px̄', 'Lt. md. frag. wt M2̄̌-̌']\n",
      "['Lt. Mt. with P4�̱��������', 'Prox. phal']\n",
      "['Lt. Md. frag. wt dP3̄̌, P4̄̌-M1̄̌', 'Prox. phalanx']\n",
      "['Pro humal', 'Lt. frag.']\n",
      "['Femoral head.', 'Lt. C̱ frag.']\n",
      "['Prox.', 'Prox. phal�']\n",
      "['Px̄ frag.', 'Prox. phalanx']\n",
      "['frat. humeral', 'Prox. phal']\n",
      "['Edentulous md. (2 unassoc. elemen', 'Prox. intermediate phal']\n",
      "['Isolated']\n",
      "['• I̲ frag.']\n"
     ]
    }
   ],
   "source": [
    "from tqdm.notebook import tqdm\n",
    "\n",
    "print(\"Running evaluation...\")\n",
    "\n",
    "predictions = []\n",
    "for batch in tqdm(test_dataloader):\n",
    "    # predict using generate\n",
    "    pixel_values = batch[\"pixel_values\"].to(device)\n",
    "    outputs = model.generate(pixel_values, max_new_tokens=MAX_TARGET_LENGTH)\n",
    "\n",
    "    # decode\n",
    "    pred_str = processor.batch_decode(outputs, skip_special_tokens=True)\n",
    "    print(pred_str)\n",
    "    predictions.append(pred_str)\n",
    "    labels = batch[\"labels\"]\n",
    "    labels[labels == -100] = processor.tokenizer.pad_token_id\n",
    "    label_str = processor.batch_decode(labels, skip_special_tokens=True)\n",
    "    print(label_str)\n",
    "\n",
    "    # add batch to metric\n",
    "    cer.add_batch(predictions=pred_str, references=label_str)\n",
    "\n",
    "final_score = cer.compute()"
   ]
  },
  {
   "cell_type": "code",
   "execution_count": 104,
   "metadata": {},
   "outputs": [
    {
     "name": "stdout",
     "output_type": "stream",
     "text": [
      "correct:   Distal half left humerus with broken medial, Isolated, LI2̌, RM̱2̌ & tooth frags (8), LM2̌, right maxilla with frag of zygomatic and, Isolated, anterior, man, Isolated RC̱, RP4̱̂, RM, Left mandible frag with broken P4̌, M1̌ and, Isolated, M3̂, frag wi I2̄̌ alveolus, croots P3̄̌-M2̄̌, Shaft lacking distal & proximal ends, Frag left mandibular corpus lacking teeth, proximal frag. right ulna, L mandible frag with roots M2̌-̌3̌, A: 4 upper premolar (P3̱̌) unerrupted. L. mbs, frag. right ulna proximal erd. wt. shaft., lokote, A = frag left mandible corpus with M3̌ roots, M3̂, RT.mandible frag with P4̌-M2̌, Mandible lacking left ascending ramus;, Rt P4̄̌, LM1̂, Broken molar !(M̱), Isolated RM2̌, RM3̌, broken LM3̌, L mandible frag with M1̌-̌3̌, Proximal part right femur, A= R mandible with M2̄̌-̌3̄̌ M1̌ root, Left ulna lacking distal epiphysis, A = distal end left femur, Rt., proximal, Proximal & distal end right femur, Right humerus lacking prox. epiphysis, Left mandible frag with M3̌, LM2̱̂, LM3̌, Right mandible frag with broken M1̌-̌3̌, Isolated LM1̌, RM3̌, LM3̌, R1/2LM1̌, A= R mandible with C̄-M1̌, frontal frag, A= Lt tibia, lokote, Mandible frag with errupting LM2̌, LM3̌ &, Isolated LP3̌, LP4̌, broken LM2̌, Isolated, R mandible & partial skeleton (P.T.O), Distal half right humerus, A = shaft L humerus frag., Lt. Edentulous frag, L mandible frag with M2̌-̌3̌, B= RM3̂ & tooth frags (12), Isolated L.P4̌; R.M1̌; R.M2̌; L.M2̌;, Isolated L.C̱, RM3̱̂, LM3̱̂, LM2̱̂, LM3̌, Left max.frag with P4̱̂M3̂, A= Left mandibular corpus with teeth M1̄̌-M3̄̌, R.C̄root, max frag with 1/2M2̂-M3̂, prox R radius, L calcaneum, Distal left humerus frag, Proximal end right femur (goeates trochauter, A: prox, R mandible frag with roots P3̌-M3̌, P3̄̌ (Crown), ? P4̱̂ frag., Molar frag., P3̱̂ frag. (Crown), ? Mx̲ frag., Tusk frag., Premolar frag - ? P3̌, Metapodial frag., Premolar frag. (Crow, Prox. metapodial, ? Distal metapodial, P3̌ Crown, Prox. Scapula frag, frag., Rt. I2̄̌ frag., Humerus (Complete), Podial, ? Scapula, Lt. P3̄̌, Podial (Complete), ?Podial, ? Rt. Md. frag. wt Px̄, Lt. md. frag. wt M2̄̌-̌, Lt. Md. frag. wt dP3̄̌, P4̄̌-M1̄̌, Prox. phalanx, Femoral head., Lt. C̱ frag., Px̄ frag., Prox. phalanx, Edentulous md. (2 unassoc. elemen, Prox. intermediate phal, • I̲ frag.\n",
      "predicted: Isolated with humal, Isolated, Lt. LM1�, LM2�,  right right rightfragal, Isolated, alterior, fral, Isolated R2̌��, LeftLeft end with P4̌, Isolated, R2̂�, Isolated fragag with, Shaft lacking humal, fragible humal�, proximal right right, L mandible frag with muš��, A1̌ humal, frag. proximal, Rt., fragible humus�, , fratable frag with P4̌̌��, Maudible lacking, R4̂��, Lt., Brokenimal, Isolated RM1̌, LM mandible frag with M1̌, Proximal right right, R mandible with M3̌�, LeftLeftLeft, A & distal, Rt., Proximal, ProProximal right, RightRightRightRight humer. prox., LeftLeftLeft m3̌�, ��, Lt., RightRightRight right right right, Isolated R1̌ LM1, LM1� LM2� LM3̌� LM2, LM3� LM3, LM2� LM, LM,� LM4� LM1� LM� LM LM3 LM3� LM1 LM3. LM1� LM3LM3, R3̌ with C1̌�, frag., Prox., fragible, Mandible frag� LM1� LM3̌��, Isolated LM4�, Isolated, R mandible ( partial, Distal right humerus, Rt half humerus, Lt. Schalus frag, L mandible frag with M4̌, R3̌, Isolated LM1̌�, Isolated RM1� LM3� LM1�LM3�, LeftLeftLeft humag with P4�̂̂�̱��������, Left Left LeftLeft humal with with with�, R. Crox�, mus frag with2�, Prox. radius, L calal, Distal Left humerus, ProProx., A : prox prox prox, R mandible frag with P3�̌̌��, Prox (, Prox. frag., M2�, Prox. Crag., Prox. frag., Tusk frag., Proxolar frag. P3̱, Pro frag. frag., Proxolar frag. ( C3�, Prox., ? Distalimal, Prox., Prox. Scapula, frag., Rt.,  humer ( ( Complete (, Podal, ? Scapula-, Lt. P3̱, Podal ( Complete (, ?Podial, Rt. frag with P4�, Lt. frag.M2̌, Lt. Mt. with P4�̱��������, Prox. phal, Pro humal, Lt. frag., Prox., Prox. phal�, frat. humeral, Prox. phal, Isolated\n",
      "Character error rate on test set: 0.6031594064145525\n",
      "Sequence matcher score, baseline: 0.5669342867033493\n"
     ]
    }
   ],
   "source": [
    "def similarity(x, y):\n",
    "    return SequenceMatcher(None, x, y).ratio()\n",
    "\n",
    "def sequence_matcher_score(labels, predicted_labels):\n",
    "    similarities = np.array([0.0] * len(labels))\n",
    "    for i in range(len(labels)):\n",
    "        similarities[i] = similarity(predicted_labels[i], labels[i])\n",
    "    return np.mean(similarities)\n",
    "\n",
    "predicted_labels = []\n",
    "for pred_batch in predictions:\n",
    "    predicted_labels.extend(pred_batch)\n",
    "\n",
    "labels = list(label_df['text'])\n",
    "print('correct:   ' + ', '.join(labels))\n",
    "print('predicted: ' + ', '.join(predicted_labels))\n",
    "print(\"Character error rate on test set:\", final_score)\n",
    "sequence_score = sequence_matcher_score(labels, predicted_labels)\n",
    "print(f\"Sequence matcher score, baseline: {sequence_score}\")"
   ]
  },
  {
   "cell_type": "code",
   "execution_count": 105,
   "metadata": {},
   "outputs": [],
   "source": [
    "# save evaluation labels & predicted labels to files to visually inspect differences\n",
    "with open('output/predicted_labels.txt', 'w') as file:\n",
    "    file.write('\\n'.join(predicted_labels))\n"
   ]
  },
  {
   "cell_type": "markdown",
   "metadata": {},
   "source": [
    "## MLflow"
   ]
  },
  {
   "cell_type": "code",
   "execution_count": 106,
   "metadata": {},
   "outputs": [
    {
     "name": "stdout",
     "output_type": "stream",
     "text": [
      "env: MLFLOW_TRACKING_URI=sqlite:///mlflow.db\n"
     ]
    }
   ],
   "source": [
    "%env MLFLOW_TRACKING_URI=sqlite:///mlflow.db\n",
    "# %env MLFLOW_ARTIFACTS_URI=/home/riikoro/thesis/code/mlartifacts\n",
    "mlflow.set_experiment(\"Dental element OCR\")\n",
    "mlflow.set_tracking_uri(\"sqlite:///mlflow.db\")\n",
    "\n",
    "params = {\n",
    "    'data_versions': DATA_VERSIONS,\n",
    "    'max_new_tokens': MAX_TARGET_LENGTH,\n",
    "    'model': MODEL,\n",
    "    'batch_size': BATCH_SIZE,\n",
    "    'num_epochs': NUM_EPOCHS,\n",
    "    'learning_rate': LEARNING_RATE\n",
    "}\n",
    "\n",
    "# Start an MLflow run\n",
    "with mlflow.start_run():\n",
    "    # Log the hyperparameters\n",
    "    mlflow.log_params(params)\n",
    "\n",
    "    # Log metrics\n",
    "    mlflow.log_metric(\"sequence matcher score\", sequence_score)\n",
    "    mlflow.log_metric('cer', final_score)\n",
    "\n",
    "    # Log output files (predicted labels & model)\n",
    "    mlflow.log_artifacts('./output')\n",
    "\n",
    "    # Set a tag that we can use to remind ourselves what this run was for\n",
    "    mlflow.set_tag(\"info\", \"TRocr tuned by freezing all weights except the last layer of the encoder/decoder, emulated from https://github.com/NielsRogge/Transformers-Tutorials\")"
   ]
  },
  {
   "cell_type": "markdown",
   "metadata": {},
   "source": [
    "# Fine-tune\n",
    "\n",
    "from https://github.com/NielsRogge/Transformers-Tutorials/blob/master/TrOCR/Fine_tune_TrOCR_on_IAM_Handwriting_Database_using_native_PyTorch.ipynb"
   ]
  },
  {
   "cell_type": "code",
   "execution_count": 56,
   "metadata": {},
   "outputs": [],
   "source": [
    "train_df, test_df = train_test_split(label_df, test_size=0.2)\n",
    "# we reset the indices to start from zero\n",
    "train_df.reset_index(drop=True, inplace=True)\n",
    "test_df.reset_index(drop=True, inplace=True)"
   ]
  },
  {
   "cell_type": "code",
   "execution_count": 57,
   "metadata": {},
   "outputs": [
    {
     "name": "stdout",
     "output_type": "stream",
     "text": [
      "Number of training examples: 79\n",
      "Number of validation examples: 20\n"
     ]
    }
   ],
   "source": [
    "train_dataset = FossilDataset(root_dir=DATA_DIR, df=train_df, processor=processor, max_target_length=MAX_TARGET_LENGTH)\n",
    "eval_dataset = FossilDataset(root_dir=DATA_DIR, df=test_df, processor=processor, max_target_length=MAX_TARGET_LENGTH)\n",
    "print(\"Number of training examples:\", len(train_dataset))\n",
    "print(\"Number of validation examples:\", len(eval_dataset))"
   ]
  },
  {
   "cell_type": "code",
   "execution_count": 58,
   "metadata": {},
   "outputs": [
    {
     "data": {
      "image/png": "[encoded data removed]",
      "text/plain": [
       "<PIL.Image.Image image mode=RGB size=540x133>"
      ]
     },
     "execution_count": 58,
     "metadata": {},
     "output_type": "execute_result"
    }
   ],
   "source": [
    "image = Image.open(train_dataset.root_dir +'/' + train_df['filename'][0]).convert(\"RGB\")\n",
    "image"
   ]
  },
  {
   "cell_type": "code",
   "execution_count": 59,
   "metadata": {},
   "outputs": [
    {
     "name": "stdout",
     "output_type": "stream",
     "text": [
      "proximal\n"
     ]
    }
   ],
   "source": [
    "encoding = train_dataset[0]\n",
    "labels = encoding['labels']\n",
    "labels[labels == -100] = processor.tokenizer.pad_token_id\n",
    "label_str = processor.decode(labels, skip_special_tokens=True)\n",
    "print(label_str)"
   ]
  },
  {
   "cell_type": "code",
   "execution_count": 62,
   "metadata": {},
   "outputs": [],
   "source": [
    "train_dataloader = DataLoader(train_dataset, batch_size=BATCH_SIZE, shuffle=True)\n",
    "eval_dataloader = DataLoader(eval_dataset, batch_size=BATCH_SIZE)"
   ]
  },
  {
   "cell_type": "code",
   "execution_count": 63,
   "metadata": {},
   "outputs": [],
   "source": [
    "# not changed from tutorial, TODO: figure out vocabulary\n",
    "# set special tokens used for creating the decoder_input_ids from the labels\n",
    "model.config.decoder_start_token_id = processor.tokenizer.cls_token_id\n",
    "model.config.pad_token_id = processor.tokenizer.pad_token_id\n",
    "# make sure vocab size is set correctly\n",
    "model.config.vocab_size = model.config.decoder.vocab_size\n",
    "\n",
    "# set beam search parameters\n",
    "model.config.eos_token_id = processor.tokenizer.sep_token_id\n",
    "model.config.max_length = 64\n",
    "model.config.early_stopping = True\n",
    "model.config.no_repeat_ngram_size = 3\n",
    "model.config.length_penalty = 2.0\n",
    "model.config.num_beams = 4"
   ]
  },
  {
   "cell_type": "code",
   "execution_count": 65,
   "metadata": {},
   "outputs": [],
   "source": [
    "cer_metric = load_metric(\"cer\")\n",
    "\n",
    "def compute_cer(pred_ids, label_ids):\n",
    "    pred_str = processor.batch_decode(pred_ids, skip_special_tokens=True)\n",
    "    label_ids[label_ids == -100] = processor.tokenizer.pad_token_id\n",
    "    label_str = processor.batch_decode(label_ids, skip_special_tokens=True)\n",
    "\n",
    "    cer = cer_metric.compute(predictions=pred_str, references=label_str)\n",
    "\n",
    "    return cer"
   ]
  },
  {
   "cell_type": "code",
   "execution_count": 75,
   "metadata": {},
   "outputs": [
    {
     "data": {
      "text/plain": [
       "636"
      ]
     },
     "execution_count": 75,
     "metadata": {},
     "output_type": "execute_result"
    }
   ],
   "source": [
    "# count layers\n",
    "layer_count = len([layer for layer in model.named_parameters()])\n",
    "layer_count"
   ]
  },
  {
   "cell_type": "code",
   "execution_count": 77,
   "metadata": {},
   "outputs": [
    {
     "name": "stdout",
     "output_type": "stream",
     "text": [
      "[False, False, False, False, False, False, False, False, False, False, False, False, False, False, False, False, False, False, False, False, False, False, False, False, False, False, False, False, False, False, False, False, False, False, False, False, False, False, False, False, False, False, False, False, False, False, False, False, False, False, False, False, False, False, False, False, False, False, False, False, False, False, False, False, False, False, False, False, False, False, False, False, False, False, False, False, False, False, False, False, False, False, False, False, False, False, False, False, False, False, False, False, False, False, False, False, False, False, False, False, False, False, False, False, False, False, False, False, False, False, False, False, False, False, False, False, False, False, False, False, False, False, False, False, False, False, False, False, False, False, False, False, False, False, False, False, False, False, False, False, False, False, False, False, False, False, False, False, False, False, False, False, False, False, False, False, False, False, False, False, False, False, False, False, False, False, False, False, False, False, False, False, False, False, False, False, False, False, False, False, False, False, False, False, False, False, False, False, False, False, False, False, False, False, False, False, False, False, False, False, False, False, False, False, False, False, False, False, False, False, False, False, False, False, False, False, False, False, False, False, False, False, False, False, False, False, False, False, False, False, False, False, False, False, False, False, False, False, False, False, False, False, False, False, False, False, False, False, False, False, False, False, False, False, False, False, False, False, False, False, False, False, False, False, False, False, False, False, False, False, False, False, False, False, False, False, False, False, False, False, False, False, False, False, False, False, False, False, False, False, False, False, False, False, False, False, False, False, False, False, False, False, False, False, False, False, False, False, False, False, False, False, False, False, False, False, False, False, False, False, False, False, False, False, False, False, False, False, False, False, False, False, False, False, False, False, False, False, False, False, False, False, False, False, False, False, False, False, False, False, False, False, False, False, False, False, False, False, False, False, False, False, False, False, False, False, False, False, False, False, False, False, False, False, False, False, False, False, False, False, False, False, False, False, False, False, False, False, False, False, False, False, False, False, False, False, False, False, False, False, False, False, False, False, False, False, False, False, False, False, False, False, False, False, False, False, False, False, False, False, False, False, False, False, False, False, False, False, False, False, False, False, False, False, False, False, False, False, False, False, False, False, False, False, False, False, False, False, False, False, False, False, False, False, False, False, False, False, False, False, False, False, False, False, False, False, False, False, False, False, False, False, False, False, False, False, False, False, False, False, False, False, False, False, False, False, False, False, False, False, False, False, False, False, False, False, False, False, False, False, False, False, False, False, False, False, False, False, False, False, False, False, False, False, False, False, False, False, False, False, False, False, False, False, False, False, False, False, False, False, False, False, False, False, False, False, False, False, False, False, False, False, False, False, False, False, False, False, False, False, False, False, False, False, False, False, False, False, False, False, False, False, False, False, False, False, False, False, False, False, False, False, False, False, False, False, False, False, False, False, False, False, False, False, False, False, False, False, False, False, False, False, False, False, False, False, False, False, False, False, False, False, False, False, False, False, False, False, False, False, False, False, False, False, False, False, False, False, False, False, False, False, False, False, False, False, False, False, False, False, False, False, False, False, False, True]\n"
     ]
    }
   ],
   "source": [
    "# freeze all but last layer\n",
    "for i, (name, weights) in enumerate(model.named_parameters()):\n",
    "    if i < layer_count - 1:\n",
    "        weights.requires_grad = False \n",
    "\n",
    "print([layer.requires_grad for layer in model.parameters()])\n"
   ]
  },
  {
   "cell_type": "code",
   "execution_count": 91,
   "metadata": {},
   "outputs": [
    {
     "data": {
      "application/vnd.jupyter.widget-view+json": {
       "model_id": "cf3f3971ec454fa6a4dfd1b030db4276",
       "version_major": 2,
       "version_minor": 0
      },
      "text/plain": [
       "  0%|          | 0/40 [00:00<?, ?it/s]"
      ]
     },
     "metadata": {},
     "output_type": "display_data"
    },
    {
     "name": "stdout",
     "output_type": "stream",
     "text": [
      "Loss after epoch 0: 4.954802327603102\n"
     ]
    },
    {
     "data": {
      "application/vnd.jupyter.widget-view+json": {
       "model_id": "b18fc0cb2245427ca7a234b435fc9769",
       "version_major": 2,
       "version_minor": 0
      },
      "text/plain": [
       "  0%|          | 0/10 [00:00<?, ?it/s]"
      ]
     },
     "metadata": {},
     "output_type": "display_data"
    },
    {
     "name": "stdout",
     "output_type": "stream",
     "text": [
      "['Lt. LM1�', 'L mandible frag with muš��']\n",
      "['LI2̌, RM̱2̌ & tooth frags (8)', 'L mandible frag with roots M2̌-̌3̌']\n",
      "['Proxolar frag. P3̱', 'LM2�']\n",
      "['Premolar frag -? P3̌', 'LM2̌']\n",
      "['Isolated', 'Rt.']\n",
      "['Isolated L.C̱, RM3̱̂, LM3̱̂, LM2̱̂, LM3̌', '? Rt. Md. frag. wt Px̄']\n",
      "['Prox.', 'Lt. Mt. with P4̱�����']\n",
      "['P3̱̂ frag. (Crown)', 'Lt. Md. frag. wt dP3̄̌, P4̄̌-M1̄̌']\n",
      "['Distal right humus', 'M2�']\n",
      "['Distal half right humerus', 'Molar frag.']\n",
      "['Prox. frag.', 'Lt. frag.']\n",
      "['? P4̱̂ frag.', 'Lt. C̱ frag.']\n",
      "['LM mandible frag with M1̌', 'Maudible lacking']\n",
      "['L mandible frag with M1̌-̌3̌', 'Mandible lacking left ascending ramus;']\n",
      "['proximal right right', ' humer ( ( Complete (']\n",
      "['proximal frag. right ulna', 'Humerus (Complete)']\n",
      "['Prox.', 'mus frag with2�']\n",
      "['P3̌ Crown', 'max frag with 1/2M2̂-M3̂']\n",
      "['Prox (', 'R. Crox�']\n",
      "['P3̄̌ (Crown)', 'R.C̄root']\n",
      "Validation CER: 0.5242795496429494\n"
     ]
    },
    {
     "data": {
      "application/vnd.jupyter.widget-view+json": {
       "model_id": "f938933f62834c6fa7bce484a2ffdb2e",
       "version_major": 2,
       "version_minor": 0
      },
      "text/plain": [
       "  0%|          | 0/40 [00:00<?, ?it/s]"
      ]
     },
     "metadata": {},
     "output_type": "display_data"
    },
    {
     "name": "stdout",
     "output_type": "stream",
     "text": [
      "Loss after epoch 1: 5.026505880057812\n"
     ]
    },
    {
     "data": {
      "application/vnd.jupyter.widget-view+json": {
       "model_id": "12daf2905c244b4986483d5db76307f7",
       "version_major": 2,
       "version_minor": 0
      },
      "text/plain": [
       "  0%|          | 0/10 [00:00<?, ?it/s]"
      ]
     },
     "metadata": {},
     "output_type": "display_data"
    },
    {
     "name": "stdout",
     "output_type": "stream",
     "text": [
      "['Lt. LM1�', 'L mandible frag with muš��']\n",
      "['LI2̌, RM̱2̌ & tooth frags (8)', 'L mandible frag with roots M2̌-̌3̌']\n",
      "['Proxolar frag. P3̱', 'LM2�']\n",
      "['Premolar frag -? P3̌', 'LM2̌']\n",
      "['Isolated', 'Rt. frag with P4�']\n",
      "['Isolated L.C̱, RM3̱̂, LM3̱̂, LM2̱̂, LM3̌', '? Rt. Md. frag. wt Px̄']\n",
      "['Prox. Crag.', 'Lt. Mt. with P4�̱������']\n",
      "['P3̱̂ frag. (Crown)', 'Lt. Md. frag. wt dP3̄̌, P4̄̌-M1̄̌']\n",
      "['Distal right humus', 'M2�']\n",
      "['Distal half right humerus', 'Molar frag.']\n",
      "['Prox. frag.', 'Lt. frag.']\n",
      "['? P4̱̂ frag.', 'Lt. C̱ frag.']\n",
      "['LM mandible frag with M1̌', 'Maudible lacking']\n",
      "['L mandible frag with M1̌-̌3̌', 'Mandible lacking left ascending ramus;']\n",
      "['proximal right right', ' humer ( ( Complete (']\n",
      "['proximal frag. right ulna', 'Humerus (Complete)']\n",
      "['Prox.', 'mus frag with2�']\n",
      "['P3̌ Crown', 'max frag with 1/2M2̂-M3̂']\n",
      "['Prox (', 'R. Crox�']\n",
      "['P3̄̌ (Crown)', 'R.C̄root']\n",
      "Validation CER: 0.5074547552090468\n"
     ]
    },
    {
     "data": {
      "application/vnd.jupyter.widget-view+json": {
       "model_id": "87a199c90b5743568a7f83685633ef26",
       "version_major": 2,
       "version_minor": 0
      },
      "text/plain": [
       "  0%|          | 0/40 [00:00<?, ?it/s]"
      ]
     },
     "metadata": {},
     "output_type": "display_data"
    },
    {
     "name": "stdout",
     "output_type": "stream",
     "text": [
      "Loss after epoch 2: 4.858761613070965\n"
     ]
    },
    {
     "data": {
      "application/vnd.jupyter.widget-view+json": {
       "model_id": "b82249c910ec404a92b5c8b8145f636c",
       "version_major": 2,
       "version_minor": 0
      },
      "text/plain": [
       "  0%|          | 0/10 [00:00<?, ?it/s]"
      ]
     },
     "metadata": {},
     "output_type": "display_data"
    },
    {
     "name": "stdout",
     "output_type": "stream",
     "text": [
      "['Lt. LM1�', 'L mandible frag with muš��']\n",
      "['LI2̌, RM̱2̌ & tooth frags (8)', 'L mandible frag with roots M2̌-̌3̌']\n",
      "['Proxolar frag. P3̱', 'LM2�']\n",
      "['Premolar frag -? P3̌', 'LM2̌']\n",
      "['Isolated RM1� LM3� LM1�LM3�', 'Rt. frag with P4�']\n",
      "['Isolated L.C̱, RM3̱̂, LM3̱̂, LM2̱̂, LM3̌', '? Rt. Md. frag. wt Px̄']\n",
      "['Prox. Crag.', 'Lt. Mt. with P4�̱��������']\n",
      "['P3̱̂ frag. (Crown)', 'Lt. Md. frag. wt dP3̄̌, P4̄̌-M1̄̌']\n",
      "['Distal right humerus', 'M2�']\n",
      "['Distal half right humerus', 'Molar frag.']\n",
      "['Prox. frag.', 'Lt. frag.']\n",
      "['? P4̱̂ frag.', 'Lt. C̱ frag.']\n",
      "['LM mandible frag with M1̌', 'Maudible lacking']\n",
      "['L mandible frag with M1̌-̌3̌', 'Mandible lacking left ascending ramus;']\n",
      "['proximal right right', ' humer ( ( Complete (']\n",
      "['proximal frag. right ulna', 'Humerus (Complete)']\n",
      "['Prox.', 'mus frag with2�']\n",
      "['P3̌ Crown', 'max frag with 1/2M2̂-M3̂']\n",
      "['Prox (', 'R. Crox�']\n",
      "['P3̄̌ (Crown)', 'R.C̄root']\n",
      "Validation CER: 0.4828922420317328\n"
     ]
    }
   ],
   "source": [
    "from tqdm.notebook import tqdm\n",
    "\n",
    "optimizer = torch.optim.AdamW(model.parameters(), lr=LEARNING_RATE)\n",
    "\n",
    "for epoch in range(NUM_EPOCHS):  # loop over the dataset multiple times\n",
    "    # train\n",
    "    model.train()\n",
    "    train_loss = 0.0\n",
    "    for batch in tqdm(train_dataloader):\n",
    "        # get the inputs\n",
    "        for k,v in batch.items():\n",
    "            batch[k] = v.to(device)\n",
    "\n",
    "            # forward + backward + optimize\n",
    "            outputs = model(**batch)\n",
    "            loss = outputs.loss\n",
    "            loss.backward()\n",
    "            optimizer.step()\n",
    "            optimizer.zero_grad()\n",
    "\n",
    "            train_loss += loss.item()\n",
    "\n",
    "    print(f\"Loss after epoch {epoch}:\", train_loss/len(train_dataloader))\n",
    "\n",
    "    # evaluate\n",
    "    model.eval()\n",
    "    valid_cer = 0.0\n",
    "    with torch.no_grad():\n",
    "        for batch in tqdm(eval_dataloader):\n",
    "            # run batch generation\n",
    "            outputs = model.generate(batch[\"pixel_values\"].to(device))\n",
    "            # compute metrics\n",
    "            cer = compute_cer(pred_ids=outputs, label_ids=batch[\"labels\"])\n",
    "            valid_cer += cer\n",
    "\n",
    "    print(\"Validation CER:\", valid_cer / len(eval_dataloader))\n"
   ]
  },
  {
   "cell_type": "markdown",
   "metadata": {},
   "source": [
    "## To investigate\n",
    "\n",
    "- what exactly is the evaluation metric? is is sum of cross-entropy of character probabilities? if so, can I give the character set in the model to include the special characters I have? probability of being subscript/superscript/top low macron?"
   ]
  },
  {
   "cell_type": "code",
   "execution_count": 96,
   "metadata": {},
   "outputs": [],
   "source": [
    "\n",
    "model.save_pretrained(\"./output\")"
   ]
  },
  {
   "cell_type": "code",
   "execution_count": null,
   "metadata": {},
   "outputs": [],
   "source": []
  }
 ],
 "metadata": {
  "kernelspec": {
   "display_name": "base",
   "language": "python",
   "name": "python3"
  },
  "language_info": {
   "codemirror_mode": {
    "name": "ipython",
    "version": 3
   },
   "file_extension": ".py",
   "mimetype": "text/x-python",
   "name": "python",
   "nbconvert_exporter": "python",
   "pygments_lexer": "ipython3",
   "version": "3.11.5"
  }
 },
 "nbformat": 4,
 "nbformat_minor": 2
}
