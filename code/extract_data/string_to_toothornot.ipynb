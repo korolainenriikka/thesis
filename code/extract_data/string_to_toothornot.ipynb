{
 "cells": [
  {
   "cell_type": "code",
   "execution_count": 2,
   "metadata": {},
   "outputs": [],
   "source": [
    "import json \n",
    "import re\n",
    "import cv2\n",
    "import matplotlib.pyplot as plt"
   ]
  },
  {
   "cell_type": "code",
   "execution_count": 71,
   "metadata": {},
   "outputs": [
    {
     "name": "stderr",
     "output_type": "stream",
     "text": [
      "[ WARN:0@1886.152] global loadsave.cpp:241 findDecoder imread_('/home/riikoro/fossil_data/Master Catalogues/Master Catalogue No.5-45624-53994/scan0210.pdf_pages/page36.png'): can't open/read file: check file path/integrity\n"
     ]
    }
   ],
   "source": [
    "def bounding_box_to_segment(image, bb):\n",
    "    x_coords = [point['x'] for point in bb]\n",
    "    y_coords = [point['y'] for point in bb]\n",
    "\n",
    "    # Determine the bounding box\n",
    "    left = min(x_coords)\n",
    "    top = min(y_coords)\n",
    "    right = max(x_coords)\n",
    "    bottom = max(y_coords)\n",
    "    return image[top:bottom, left:right]\n",
    "\n",
    "teeth_found = 0\n",
    "azure_labels = []\n",
    "img_i = 0\n",
    "for i in range(1, 1000):\n",
    "    file_path = f'/home/riikoro/fossil_data/Master Catalogues/Master Catalogue No.5-45624-53994/scan0210.pdf_pages/page{i}.json'\n",
    "    pdf = cv2.imread(f'/home/riikoro/fossil_data/Master Catalogues/Master Catalogue No.5-45624-53994/scan0210.pdf_pages/page{i}.png')\n",
    "    # pdf = cv2.cvtColor(pdf, cv2.COLOR_BGR2RGB) \n",
    "    # Open the JSON file\n",
    "    try:\n",
    "        with open(file_path, 'r') as json_file:\n",
    "            # Load the JSON data into a Python object\n",
    "            data = json.load(json_file)\n",
    "    except FileNotFoundError:\n",
    "        break\n",
    "\n",
    "    for block in data['readResult']['blocks']:\n",
    "        for line in block['lines']:\n",
    "            # print(line['text'])\n",
    "            for i, word in enumerate(line['words']):\n",
    "                is_tooth = re.match('^[a-zA-Z]\\d$|^[cC]$', word['text'])\n",
    "                if (is_tooth):\n",
    "                    teeth_found += 1\n",
    "                    azure_label = word['text']\n",
    "                    bounding_box = word['boundingPolygon']\n",
    "                    azure_labels.append(azure_label)\n",
    "                    img_segment = bounding_box_to_segment(pdf, bounding_box)\n",
    "                    cv2.imwrite(f'/home/riikoro/fossil_data/tooth_samples/v4/{img_i}.png', img_segment)\n",
    "                    img_i += 1"
   ]
  },
  {
   "cell_type": "code",
   "execution_count": 72,
   "metadata": {},
   "outputs": [
    {
     "data": {
      "text/plain": [
       "92"
      ]
     },
     "execution_count": 72,
     "metadata": {},
     "output_type": "execute_result"
    }
   ],
   "source": [
    "teeth_found"
   ]
  },
  {
   "cell_type": "code",
   "execution_count": 73,
   "metadata": {},
   "outputs": [
    {
     "data": {
      "text/plain": [
       "['M2',\n",
       " 'M3',\n",
       " 'M2',\n",
       " 'P4',\n",
       " 'M2',\n",
       " 'M3',\n",
       " 'M2',\n",
       " 'M2',\n",
       " 'w2',\n",
       " 'M3',\n",
       " 'M3',\n",
       " 'M3',\n",
       " 'M3',\n",
       " 'C',\n",
       " 'M3',\n",
       " 'M6',\n",
       " 'P3',\n",
       " 'M3',\n",
       " 'M3',\n",
       " 'M3',\n",
       " 'C',\n",
       " 'L5',\n",
       " 'C',\n",
       " 'M5',\n",
       " 'L5',\n",
       " 'M2',\n",
       " 'M3',\n",
       " 'L5',\n",
       " 'C',\n",
       " 'T1',\n",
       " 'P3',\n",
       " 'p4',\n",
       " 'M3',\n",
       " 'M3',\n",
       " 'M2',\n",
       " 'm2',\n",
       " 'P3',\n",
       " 'm2',\n",
       " 'm3',\n",
       " 'M2',\n",
       " 'P5',\n",
       " 'P2',\n",
       " 'P2',\n",
       " 'M2',\n",
       " 'M3',\n",
       " 'P4',\n",
       " 'P3',\n",
       " 'm2',\n",
       " 'M2',\n",
       " 'M3',\n",
       " 'P1',\n",
       " 'M3',\n",
       " 'M3',\n",
       " 'P5',\n",
       " 'M1',\n",
       " 'M3',\n",
       " 'M3',\n",
       " 'M2',\n",
       " 'P3',\n",
       " 'p4',\n",
       " 'C',\n",
       " 'M2',\n",
       " 'P3',\n",
       " 'P4',\n",
       " 'C',\n",
       " 'C',\n",
       " 'P4',\n",
       " 'M3',\n",
       " 'F1',\n",
       " 'B1',\n",
       " 'M3',\n",
       " 'M1',\n",
       " 'P2',\n",
       " 'M2',\n",
       " 'P4',\n",
       " 'M2',\n",
       " 'W1',\n",
       " 'M1',\n",
       " 'M3',\n",
       " 'C',\n",
       " 'M2',\n",
       " 'M3',\n",
       " 'C',\n",
       " 'C',\n",
       " 'M3',\n",
       " 'C',\n",
       " 'M2',\n",
       " 'M2',\n",
       " 'P3',\n",
       " 'M2',\n",
       " 'M2',\n",
       " 'P1']"
      ]
     },
     "execution_count": 73,
     "metadata": {},
     "output_type": "execute_result"
    }
   ],
   "source": [
    "azure_labels"
   ]
  },
  {
   "cell_type": "code",
   "execution_count": 74,
   "metadata": {},
   "outputs": [
    {
     "name": "stdout",
     "output_type": "stream",
     "text": [
      "m: 52, p: 21, i: 0, c: 11\n"
     ]
    }
   ],
   "source": [
    "from functools import reduce\n",
    "# get class balances found\n",
    "count_m = reduce(lambda count, s: count + 1 if s.startswith(('m', 'M')) else count, azure_labels, 0)\n",
    "count_p = reduce(lambda count, s: count + 1 if s.startswith(('p', 'P')) else count, azure_labels, 0)\n",
    "count_i = reduce(lambda count, s: count + 1 if s.startswith(('i', 'I')) else count, azure_labels, 0)\n",
    "count_c = reduce(lambda count, s: count + 1 if s.startswith(('c', 'C')) else count, azure_labels, 0)\n",
    "print(f'm: {count_m}, p: {count_p}, i: {count_i}, c: {count_c}')"
   ]
  },
  {
   "cell_type": "code",
   "execution_count": 75,
   "metadata": {},
   "outputs": [],
   "source": [
    "with open('/home/riikoro/fossil_data/tooth_samples/v4/azure_labels.txt', 'w') as out:\n",
    "    out.write('\\n'.join(azure_labels))"
   ]
  },
  {
   "cell_type": "code",
   "execution_count": null,
   "metadata": {},
   "outputs": [],
   "source": []
  }
 ],
 "metadata": {
  "kernelspec": {
   "display_name": "base",
   "language": "python",
   "name": "python3"
  },
  "language_info": {
   "codemirror_mode": {
    "name": "ipython",
    "version": 3
   },
   "file_extension": ".py",
   "mimetype": "text/x-python",
   "name": "python",
   "nbconvert_exporter": "python",
   "pygments_lexer": "ipython3",
   "version": "3.11.5"
  }
 },
 "nbformat": 4,
 "nbformat_minor": 2
}
