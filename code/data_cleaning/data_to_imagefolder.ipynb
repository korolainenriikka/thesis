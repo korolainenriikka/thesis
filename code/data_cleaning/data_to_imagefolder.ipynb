{
 "cells": [
  {
   "cell_type": "markdown",
   "metadata": {},
   "source": [
    "# Script to create ImageFolder format for tooth sample data\n",
    "\n",
    "https://pytorch.org/vision/main/generated/torchvision.datasets.ImageFolder.html\n",
    "\n",
    "also: augment data to get balanced classes\n",
    "\n",
    "structure\n",
    "\n",
    "torch_imagefolder/mpi/m,p,i\n",
    "\n",
    "torch_imagefolder/upperlower/upper,lower\n",
    "\n",
    "-> no predetermined train and test sets to not fit to particular train/test split\n"
   ]
  },
  {
   "cell_type": "code",
   "execution_count": 37,
   "metadata": {},
   "outputs": [],
   "source": [
    "import cv2\n",
    "import pandas as pd\n",
    "import matplotlib.pyplot as plt"
   ]
  },
  {
   "cell_type": "code",
   "execution_count": 1,
   "metadata": {},
   "outputs": [],
   "source": [
    "# borderValue: color to use in fill-in pixels after translation\n",
    "def translate(image, tx, ty, borderValue = 255):\n",
    "    M = np.array([[1.,0.,tx],[0.,1.,ty]])\n",
    "    height, width = image.shape[:2]\n",
    "    translated_image = cv2.warpAffine(src=image, M=translation_matrix, dsize=(width, height), borderMode=cv2.BORDER_CONSTANT, borderValue=borderValue)\n",
    "    return translated_image"
   ]
  },
  {
   "cell_type": "code",
   "execution_count": 6,
   "metadata": {},
   "outputs": [],
   "source": [
    "# script parameters\n",
    "data_versions = [3,4,5]\n",
    "image_path = '/home/riikoro/fossil_data/tooth_samples'"
   ]
  },
  {
   "cell_type": "code",
   "execution_count": 31,
   "metadata": {},
   "outputs": [],
   "source": [
    "# Conversion from upper/lower and azure_labels.txt to combined labels.csv file (u (binary, is upper jaw), tooth (azure output word))\n",
    "# import os\n",
    "# for v in [3,4]:\n",
    "#     img_root = f'{image_path}/v{v}'\n",
    "#     azure = pd.read_csv(f'{img_root}/azure_labels.txt',header=None,names=['tooth'])\n",
    "#     upper = pd.read_csv(f'{img_root}/upper_lower_labels.txt')\n",
    "#     combined = pd.DataFrame()\n",
    "#     combined['tooth'] = azure['tooth']\n",
    "#     combined['u'] = upper['upper (-1 = unknown)']\n",
    "#     combined.to_csv(f'{img_root}/labels.txt', index=False)"
   ]
  },
  {
   "cell_type": "markdown",
   "metadata": {},
   "source": [
    "1. Get all images with labels\n",
    "2. Create directory torch_imagefolder, subfolders upperlower and MPI with subdirectories for all classes\n",
    "2. MPI: check balances -> augment so that balances equal\n",
    "3. Divide into M P and I\n",
    "5. Save images to MPI folders\n",
    "6. Upper and lower: check balances, augment if necessary\n",
    "7. Divide into upper lower\n",
    "8. Save images to upper lower folders"
   ]
  },
  {
   "cell_type": "code",
   "execution_count": 34,
   "metadata": {},
   "outputs": [
    {
     "data": {
      "text/html": [
       "<div>\n",
       "<style scoped>\n",
       "    .dataframe tbody tr th:only-of-type {\n",
       "        vertical-align: middle;\n",
       "    }\n",
       "\n",
       "    .dataframe tbody tr th {\n",
       "        vertical-align: top;\n",
       "    }\n",
       "\n",
       "    .dataframe thead th {\n",
       "        text-align: right;\n",
       "    }\n",
       "</style>\n",
       "<table border=\"1\" class=\"dataframe\">\n",
       "  <thead>\n",
       "    <tr style=\"text-align: right;\">\n",
       "      <th></th>\n",
       "      <th>u</th>\n",
       "      <th>tooth_type</th>\n",
       "      <th>image_i</th>\n",
       "      <th>data_v</th>\n",
       "    </tr>\n",
       "  </thead>\n",
       "  <tbody>\n",
       "    <tr>\n",
       "      <th>0</th>\n",
       "      <td>1</td>\n",
       "      <td>M</td>\n",
       "      <td>0</td>\n",
       "      <td>3</td>\n",
       "    </tr>\n",
       "    <tr>\n",
       "      <th>1</th>\n",
       "      <td>0</td>\n",
       "      <td>None</td>\n",
       "      <td>1</td>\n",
       "      <td>3</td>\n",
       "    </tr>\n",
       "    <tr>\n",
       "      <th>2</th>\n",
       "      <td>0</td>\n",
       "      <td>None</td>\n",
       "      <td>2</td>\n",
       "      <td>3</td>\n",
       "    </tr>\n",
       "    <tr>\n",
       "      <th>3</th>\n",
       "      <td>0</td>\n",
       "      <td>M</td>\n",
       "      <td>3</td>\n",
       "      <td>3</td>\n",
       "    </tr>\n",
       "    <tr>\n",
       "      <th>4</th>\n",
       "      <td>1</td>\n",
       "      <td>P</td>\n",
       "      <td>4</td>\n",
       "      <td>3</td>\n",
       "    </tr>\n",
       "    <tr>\n",
       "      <th>...</th>\n",
       "      <td>...</td>\n",
       "      <td>...</td>\n",
       "      <td>...</td>\n",
       "      <td>...</td>\n",
       "    </tr>\n",
       "    <tr>\n",
       "      <th>43</th>\n",
       "      <td>1</td>\n",
       "      <td>I</td>\n",
       "      <td>43</td>\n",
       "      <td>5</td>\n",
       "    </tr>\n",
       "    <tr>\n",
       "      <th>44</th>\n",
       "      <td>1</td>\n",
       "      <td>I</td>\n",
       "      <td>44</td>\n",
       "      <td>5</td>\n",
       "    </tr>\n",
       "    <tr>\n",
       "      <th>45</th>\n",
       "      <td>1</td>\n",
       "      <td>I</td>\n",
       "      <td>45</td>\n",
       "      <td>5</td>\n",
       "    </tr>\n",
       "    <tr>\n",
       "      <th>46</th>\n",
       "      <td>1</td>\n",
       "      <td>I</td>\n",
       "      <td>46</td>\n",
       "      <td>5</td>\n",
       "    </tr>\n",
       "    <tr>\n",
       "      <th>47</th>\n",
       "      <td>0</td>\n",
       "      <td>I</td>\n",
       "      <td>47</td>\n",
       "      <td>5</td>\n",
       "    </tr>\n",
       "  </tbody>\n",
       "</table>\n",
       "<p>372 rows × 4 columns</p>\n",
       "</div>"
      ],
      "text/plain": [
       "    u tooth_type  image_i  data_v\n",
       "0   1          M        0       3\n",
       "1   0       None        1       3\n",
       "2   0       None        2       3\n",
       "3   0          M        3       3\n",
       "4   1          P        4       3\n",
       ".. ..        ...      ...     ...\n",
       "43  1          I       43       5\n",
       "44  1          I       44       5\n",
       "45  1          I       45       5\n",
       "46  1          I       46       5\n",
       "47  0          I       47       5\n",
       "\n",
       "[372 rows x 4 columns]"
      ]
     },
     "execution_count": 34,
     "metadata": {},
     "output_type": "execute_result"
    }
   ],
   "source": [
    "# 1. Get all labels\n",
    "def clean_azure_labels(data_version):\n",
    "    tooth_labels = pd.read_csv(f'{image_path}/v{data_version}/labels.txt')\n",
    "    tooth_labels['tooth_type'] = tooth_labels['tooth'].str[0] # extract first character\n",
    "    del tooth_labels['tooth']\n",
    "    # set labels where tooth type is unexpected to none\n",
    "    tooth_labels.loc[~tooth_labels['tooth_type'].isin(['m', 'p', 'i', 'M', 'P', 'I']), 'tooth_type'] = None\n",
    "    # uppercase all tooth type letters\n",
    "    tooth_labels['tooth_type'] = tooth_labels['tooth_type'].str.upper()\n",
    "    # add column for image index & data version to allow combining datasets\n",
    "    tooth_labels['image_i'] = tooth_labels.index\n",
    "    tooth_labels['data_v'] = data_version\n",
    "    return tooth_labels\n",
    "\n",
    "label_dfs = []\n",
    "for data_v in data_versions:\n",
    "    label_dfs.append(clean_azure_labels(data_v))\n",
    "\n",
    "tooth_labels = pd.concat(label_dfs, axis=0)\n",
    "tooth_labels"
   ]
  },
  {
   "cell_type": "code",
   "execution_count": 42,
   "metadata": {},
   "outputs": [
    {
     "data": {
      "text/plain": [
       "u               1\n",
       "tooth_type      M\n",
       "image_i       123\n",
       "data_v          3\n",
       "Name: 123, dtype: object"
      ]
     },
     "execution_count": 42,
     "metadata": {},
     "output_type": "execute_result"
    },
    {
     "data": {
      "image/png": "[encoded data removed]",
      "text/plain": [
       "<Figure size 640x480 with 1 Axes>"
      ]
     },
     "metadata": {},
     "output_type": "display_data"
    }
   ],
   "source": [
    "# 1. Get all images\n",
    "tooth_images = []\n",
    "for i, label in tooth_labels.iterrows():\n",
    "    filename = f'{image_path}/v{label[\"data_v\"]}/{label[\"image_i\"]}.png'\n",
    "    image = cv2.imread(filename)\n",
    "    tooth_images.append(image)\n",
    "\n",
    "len(tooth_images)\n",
    "plt.imshow(tooth_images[123])\n",
    "tooth_labels.iloc[123]"
   ]
  },
  {
   "cell_type": "code",
   "execution_count": 46,
   "metadata": {},
   "outputs": [],
   "source": [
    "# try creating new directory with torch_imagefolder_i name until a nonreserved directory name is found (to not overwrite previous data versions)\n",
    "# follow the structure from https://pytorch.org/vision/main/generated/torchvision.datasets.ImageFolder.html\n",
    "i = 0\n",
    "while(1):\n",
    "    try:\n",
    "        os.mkdir(f'{image_path}/torch_imagefolder_{i}')\n",
    "        os.mkdir(f'{image_path}/torch_imagefolder_{i}/MPI')\n",
    "        os.mkdir(f'{image_path}/torch_imagefolder_{i}/MPI/M')\n",
    "        os.mkdir(f'{image_path}/torch_imagefolder_{i}/MPI/P')\n",
    "        os.mkdir(f'{image_path}/torch_imagefolder_{i}/MPI/I')\n",
    "        os.mkdir(f'{image_path}/torch_imagefolder_{i}/upperlower')\n",
    "        os.mkdir(f'{image_path}/torch_imagefolder_{i}/upperlower/upper')\n",
    "        os.mkdir(f'{image_path}/torch_imagefolder_{i}/upperlower/lower')\n",
    "        break\n",
    "    except FileExistsError:\n",
    "        i += 1\n",
    "        continue"
   ]
  },
  {
   "cell_type": "markdown",
   "metadata": {},
   "source": [
    "### Save M, P, I to new folders"
   ]
  },
  {
   "cell_type": "markdown",
   "metadata": {},
   "source": [
    "### Save upper, lower to new folders"
   ]
  },
  {
   "cell_type": "markdown",
   "metadata": {},
   "source": []
  }
 ],
 "metadata": {
  "kernelspec": {
   "display_name": "base",
   "language": "python",
   "name": "python3"
  },
  "language_info": {
   "codemirror_mode": {
    "name": "ipython",
    "version": 3
   },
   "file_extension": ".py",
   "mimetype": "text/x-python",
   "name": "python",
   "nbconvert_exporter": "python",
   "pygments_lexer": "ipython3",
   "version": "3.11.5"
  }
 },
 "nbformat": 4,
 "nbformat_minor": 2
}
