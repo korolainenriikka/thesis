{
 "cells": [
  {
   "cell_type": "markdown",
   "metadata": {},
   "source": [
    "# Script to create ImageFolder format for tooth sample data\n",
    "\n",
    "https://pytorch.org/vision/main/generated/torchvision.datasets.ImageFolder.html\n",
    "\n",
    "also: augment data to get balanced classes\n",
    "\n",
    "structure\n",
    "\n",
    "torch_imagefolder/mpi/m,p,i\n",
    "\n",
    "torch_imagefolder/upperlower/upper,lower\n",
    "\n",
    "-> no predetermined train and test sets to not fit to particular train/test split\n"
   ]
  },
  {
   "cell_type": "code",
   "execution_count": 1,
   "metadata": {},
   "outputs": [],
   "source": [
    "import cv2\n",
    "import pandas as pd\n",
    "import numpy as np\n",
    "import matplotlib.pyplot as plt\n",
    "import os\n",
    "import math\n",
    "import glob\n",
    "from PIL import Image\n",
    "from torchvision import transforms\n",
    "import matplotlib.pyplot as plt\n",
    "import numpy.random as npr\n",
    "from sklearn.model_selection import train_test_split\n",
    "import shutil"
   ]
  },
  {
   "cell_type": "code",
   "execution_count": 4,
   "metadata": {},
   "outputs": [],
   "source": [
    "# constants / hyperparameters\n",
    "TRAIN_TEST_SPLIT_RANDOM_SEED = 10"
   ]
  },
  {
   "cell_type": "code",
   "execution_count": 5,
   "metadata": {},
   "outputs": [],
   "source": [
    "# script parameters\n",
    "data_versions = [3,4,5]\n",
    "data_versions.extend(range(8,22))\n",
    "image_path = '/home/riikoro/fossil_data/tooth_samples'"
   ]
  },
  {
   "cell_type": "markdown",
   "metadata": {},
   "source": [
    "0. Create labels.txt where they are missing\n",
    "1. Get all images with labels\n",
    "2. Create directory torch_imagefolder, subfolders upperlower and MPI with subdirectories for all classes\n",
    "2. MPI: check balances -> augment so that balances equal\n",
    "3. Divide into M P and I\n",
    "5. Save images to MPI folders\n",
    "6. Upper and lower: check balances, augment if necessary\n",
    "7. Divide into upper lower\n",
    "8. Save images to upper lower folders"
   ]
  },
  {
   "cell_type": "code",
   "execution_count": 6,
   "metadata": {},
   "outputs": [
    {
     "data": {
      "text/html": [
       "<div>\n",
       "<style scoped>\n",
       "    .dataframe tbody tr th:only-of-type {\n",
       "        vertical-align: middle;\n",
       "    }\n",
       "\n",
       "    .dataframe tbody tr th {\n",
       "        vertical-align: top;\n",
       "    }\n",
       "\n",
       "    .dataframe thead th {\n",
       "        text-align: right;\n",
       "    }\n",
       "</style>\n",
       "<table border=\"1\" class=\"dataframe\">\n",
       "  <thead>\n",
       "    <tr style=\"text-align: right;\">\n",
       "      <th></th>\n",
       "      <th>filename</th>\n",
       "      <th>azure_output</th>\n",
       "      <th>u</th>\n",
       "      <th>MPI</th>\n",
       "      <th>tooth_index</th>\n",
       "    </tr>\n",
       "  </thead>\n",
       "  <tbody>\n",
       "    <tr>\n",
       "      <th>0</th>\n",
       "      <td>/home/riikoro/fossil_data/tooth_samples/v3/0.png</td>\n",
       "      <td>M3</td>\n",
       "      <td>1</td>\n",
       "      <td>M</td>\n",
       "      <td>3</td>\n",
       "    </tr>\n",
       "    <tr>\n",
       "      <th>1</th>\n",
       "      <td>/home/riikoro/fossil_data/tooth_samples/v3/1.png</td>\n",
       "      <td>H1</td>\n",
       "      <td>0</td>\n",
       "      <td>M</td>\n",
       "      <td>1</td>\n",
       "    </tr>\n",
       "    <tr>\n",
       "      <th>2</th>\n",
       "      <td>/home/riikoro/fossil_data/tooth_samples/v3/2.png</td>\n",
       "      <td>T2</td>\n",
       "      <td>0</td>\n",
       "      <td>I</td>\n",
       "      <td>2</td>\n",
       "    </tr>\n",
       "    <tr>\n",
       "      <th>3</th>\n",
       "      <td>/home/riikoro/fossil_data/tooth_samples/v3/3.png</td>\n",
       "      <td>M3</td>\n",
       "      <td>0</td>\n",
       "      <td>M</td>\n",
       "      <td>3</td>\n",
       "    </tr>\n",
       "    <tr>\n",
       "      <th>4</th>\n",
       "      <td>/home/riikoro/fossil_data/tooth_samples/v3/4.png</td>\n",
       "      <td>p4</td>\n",
       "      <td>1</td>\n",
       "      <td>P</td>\n",
       "      <td>4</td>\n",
       "    </tr>\n",
       "    <tr>\n",
       "      <th>...</th>\n",
       "      <td>...</td>\n",
       "      <td>...</td>\n",
       "      <td>...</td>\n",
       "      <td>...</td>\n",
       "      <td>...</td>\n",
       "    </tr>\n",
       "    <tr>\n",
       "      <th>1327</th>\n",
       "      <td>/home/riikoro/fossil_data/tooth_samples/v21/17...</td>\n",
       "      <td>M3</td>\n",
       "      <td>1</td>\n",
       "      <td>M</td>\n",
       "      <td>3</td>\n",
       "    </tr>\n",
       "    <tr>\n",
       "      <th>1328</th>\n",
       "      <td>/home/riikoro/fossil_data/tooth_samples/v21/17...</td>\n",
       "      <td>P1</td>\n",
       "      <td>0</td>\n",
       "      <td>P</td>\n",
       "      <td>1</td>\n",
       "    </tr>\n",
       "    <tr>\n",
       "      <th>1329</th>\n",
       "      <td>/home/riikoro/fossil_data/tooth_samples/v21/17...</td>\n",
       "      <td>M2</td>\n",
       "      <td>0</td>\n",
       "      <td>M</td>\n",
       "      <td>2</td>\n",
       "    </tr>\n",
       "    <tr>\n",
       "      <th>1330</th>\n",
       "      <td>/home/riikoro/fossil_data/tooth_samples/v21/17...</td>\n",
       "      <td>M3</td>\n",
       "      <td>0</td>\n",
       "      <td>M</td>\n",
       "      <td>3</td>\n",
       "    </tr>\n",
       "    <tr>\n",
       "      <th>1331</th>\n",
       "      <td>/home/riikoro/fossil_data/tooth_samples/v21/17...</td>\n",
       "      <td>C</td>\n",
       "      <td>&lt;NA&gt;</td>\n",
       "      <td>C</td>\n",
       "      <td>&lt;NA&gt;</td>\n",
       "    </tr>\n",
       "  </tbody>\n",
       "</table>\n",
       "<p>1332 rows × 5 columns</p>\n",
       "</div>"
      ],
      "text/plain": [
       "                                               filename azure_output     u  \\\n",
       "0      /home/riikoro/fossil_data/tooth_samples/v3/0.png           M3     1   \n",
       "1      /home/riikoro/fossil_data/tooth_samples/v3/1.png           H1     0   \n",
       "2      /home/riikoro/fossil_data/tooth_samples/v3/2.png           T2     0   \n",
       "3      /home/riikoro/fossil_data/tooth_samples/v3/3.png           M3     0   \n",
       "4      /home/riikoro/fossil_data/tooth_samples/v3/4.png           p4     1   \n",
       "...                                                 ...          ...   ...   \n",
       "1327  /home/riikoro/fossil_data/tooth_samples/v21/17...           M3     1   \n",
       "1328  /home/riikoro/fossil_data/tooth_samples/v21/17...           P1     0   \n",
       "1329  /home/riikoro/fossil_data/tooth_samples/v21/17...           M2     0   \n",
       "1330  /home/riikoro/fossil_data/tooth_samples/v21/17...           M3     0   \n",
       "1331  /home/riikoro/fossil_data/tooth_samples/v21/17...            C  <NA>   \n",
       "\n",
       "     MPI  tooth_index  \n",
       "0      M            3  \n",
       "1      M            1  \n",
       "2      I            2  \n",
       "3      M            3  \n",
       "4      P            4  \n",
       "...   ..          ...  \n",
       "1327   M            3  \n",
       "1328   P            1  \n",
       "1329   M            2  \n",
       "1330   M            3  \n",
       "1331   C         <NA>  \n",
       "\n",
       "[1332 rows x 5 columns]"
      ]
     },
     "execution_count": 6,
     "metadata": {},
     "output_type": "execute_result"
    }
   ],
   "source": [
    "# 1. Get all labels\n",
    "def clean_azure_labels(data_version):\n",
    "    tooth_labels = pd.read_csv(f'{image_path}/v{data_version}/labels_full.csv')\n",
    "    tooth_labels['filename'] = image_path + '/v' + str(data_version) + '/' +  tooth_labels['filename']\n",
    "    tooth_labels['tooth_index'] = tooth_labels['tooth_index'].astype('Int64') # pandas automatically converts to int due to nones present\n",
    "    # undecipherable u should be none\n",
    "    tooth_labels['u'] = tooth_labels['u'].apply(lambda upper: upper if upper in [0,1] else None)\n",
    "    tooth_labels['u'] = tooth_labels['u'].astype('Int64') # pandas automatically converts to int due to nones present\n",
    "    return tooth_labels\n",
    "\n",
    "label_dfs = []\n",
    "for data_v in data_versions:\n",
    "    label_dfs.append(clean_azure_labels(data_v))\n",
    "\n",
    "tooth_labels = pd.concat(label_dfs, axis=0)\n",
    "tooth_labels.reset_index(drop=True, inplace=True)\n",
    "tooth_labels"
   ]
  },
  {
   "cell_type": "code",
   "execution_count": 7,
   "metadata": {},
   "outputs": [
    {
     "data": {
      "text/plain": [
       "'/home/riikoro/fossil_data/tooth_samples/torch_imagefolder_0'"
      ]
     },
     "execution_count": 7,
     "metadata": {},
     "output_type": "execute_result"
    }
   ],
   "source": [
    "# try creating new directory with torch_imagefolder_i name until a nonreserved directory name is found (to not overwrite previous data versions)\n",
    "# follow the structure from https://pytorch.org/vision/main/generated/torchvision.datasets.ImageFolder.html\n",
    "tasks = {\n",
    "    'MPI': ['M', 'P', 'I'],\n",
    "    'upperlower': ['up', 'low'],\n",
    "    '123': ['1', '2', '3'],\n",
    "    '1234': ['1', '2', '3', '4']\n",
    "}\n",
    "sets = ['train', 'val', 'test']\n",
    "\n",
    "# i = 0\n",
    "# while(1):\n",
    "#     try:\n",
    "#         torch_imagefolder_path = f'{image_path}/torch_imagefolder_{i}'\n",
    "#         os.mkdir(torch_imagefolder_path)\n",
    "#         for task, classes in tasks.items():\n",
    "#             task_directory = f'{torch_imagefolder_path}/{task}' \n",
    "#             os.mkdir(task_directory)\n",
    "            \n",
    "#             # placeholder class directories used for balancing\n",
    "#             for classs in classes:\n",
    "#                 os.mkdir(f'{task_directory}/{classs}')\n",
    "            \n",
    "#             for dataset in sets:\n",
    "#                 dataset_directory = f'{task_directory}/{dataset}'\n",
    "#                 os.mkdir(dataset_directory)\n",
    "#                 for classs in classes:\n",
    "#                     os.mkdir(f'{dataset_directory}/{classs}')\n",
    "#         break\n",
    "#     except FileExistsError:\n",
    "#         i += 1\n",
    "#         continue\n",
    "torch_imagefolder_path = f'{image_path}/torch_imagefolder_0'\n",
    "torch_imagefolder_path"
   ]
  },
  {
   "cell_type": "markdown",
   "metadata": {},
   "source": [
    "### Save M, P, I, upper lower to new folders"
   ]
  },
  {
   "cell_type": "code",
   "execution_count": null,
   "metadata": {},
   "outputs": [],
   "source": [
    "# save all images first to directory above train val and test\n",
    "\n",
    "# colname that specifies which class each row belongs to\n",
    "task_column = {\n",
    "    'MPI': 'MPI',\n",
    "    'upperlower': 'u',\n",
    "    '123': 'tooth_index',\n",
    "    '1234': 'tooth_index'\n",
    "}\n",
    "\n",
    "img_i = 0 # running index to use as image filename\n",
    "for task, column in task_column.items():\n",
    "    for i, sample in tooth_labels.iterrows():\n",
    "        value = sample[column]\n",
    "        if pd.isnull(value):\n",
    "            continue\n",
    "\n",
    "        if column == 'u' and value == -1:\n",
    "            continue\n",
    "\n",
    "        # skip indices of other teeth\n",
    "        if column == 'tooth_index' and task[0] != sample['MPI']:\n",
    "            continue\n",
    "\n",
    "        if column == 'u':\n",
    "            if value == 1:\n",
    "                value = 'up'\n",
    "            elif value == 0:\n",
    "                value = 'low'\n",
    "            else:\n",
    "                continue\n",
    "\n",
    "        if column == 'MPI' and value == 'C':\n",
    "            continue\n",
    "\n",
    "        image = cv2.imread(sample['filename'])\n",
    "        cv2.imwrite(f'{torch_imagefolder_path}/{task}/{value}/{img_i}.png', image)\n",
    "        img_i += 1"
   ]
  },
  {
   "cell_type": "markdown",
   "metadata": {},
   "source": [
    "## Create balanced dataset"
   ]
  },
  {
   "cell_type": "code",
   "execution_count": null,
   "metadata": {},
   "outputs": [
    {
     "data": {
      "image/png": "[encoded data removed]",
      "text/plain": [
       "<Figure size 640x480 with 1 Axes>"
      ]
     },
     "metadata": {},
     "output_type": "display_data"
    }
   ],
   "source": [
    "# up/low\n",
    "task_to_balance = 'upperlower'\n",
    "column = task_column[task_to_balance]\n",
    "value_counts = tooth_labels[column].value_counts()\n",
    "\n",
    "# Plot a bar chart\n",
    "value_counts.plot(kind='bar', color='skyblue')\n",
    "\n",
    "# Add title and labels\n",
    "plt.title(f'Class balances: {task_to_balance}')\n",
    "plt.xlabel('Values')\n",
    "plt.ylabel('Count')\n",
    "\n",
    "# Display the plot\n",
    "plt.show()"
   ]
  },
  {
   "cell_type": "code",
   "execution_count": 11,
   "metadata": {},
   "outputs": [
    {
     "data": {
      "image/png": "[encoded data removed]",
      "text/plain": [
       "<Figure size 640x480 with 1 Axes>"
      ]
     },
     "metadata": {},
     "output_type": "display_data"
    }
   ],
   "source": [
    "# MPI\n",
    "task_to_balance = 'MPI'\n",
    "column = task_column[task_to_balance]\n",
    "value_counts = tooth_labels[column].value_counts()\n",
    "value_counts.drop('C', inplace=True)\n",
    "\n",
    "# Plot a bar chart\n",
    "value_counts.plot(kind='bar', color='skyblue')\n",
    "\n",
    "# Add title and labels\n",
    "plt.title(f'Class balances: {task_to_balance}')\n",
    "plt.xlabel('Values')\n",
    "plt.ylabel('Count')\n",
    "\n",
    "# Display the plot\n",
    "plt.show()"
   ]
  },
  {
   "cell_type": "code",
   "execution_count": 75,
   "metadata": {},
   "outputs": [],
   "source": [
    "# move images for 123 & 1234\n",
    "classes = list(range(1,5))\n",
    "task = '1234'\n",
    "base_dirs = ['M123', 'P1234', 'I123']\n",
    "for base_dir in base_dirs:\n",
    "    for classname in classes:\n",
    "        source_dir = f'{torch_imagefolder_path}/{base_dir}/{classname}'\n",
    "        dest_dir = f'{torch_imagefolder_path}/{task}/{classname}'\n",
    "        images = glob.glob1(source_dir, '*.png')\n",
    "        for image in images:\n",
    "            img_src = f'{source_dir}/{image}'\n",
    "            img_dst = f'{dest_dir}/{image}'\n",
    "            shutil.copy(img_src, dest_dir)"
   ]
  },
  {
   "cell_type": "code",
   "execution_count": null,
   "metadata": {},
   "outputs": [
    {
     "data": {
      "image/png": "[encoded data removed]",
      "text/plain": [
       "<Figure size 640x480 with 1 Axes>"
      ]
     },
     "metadata": {},
     "output_type": "display_data"
    },
    {
     "data": {
      "text/plain": [
       "tooth_index\n",
       "3    574\n",
       "2    374\n",
       "1     73\n",
       "Name: count, dtype: Int64"
      ]
     },
     "metadata": {},
     "output_type": "display_data"
    }
   ],
   "source": [
    "# 123\n",
    "task_to_balance = '123'\n",
    "column = task_column[task_to_balance]\n",
    "value_counts = tooth_labels[column].value_counts()\n",
    "value_counts.drop(4, inplace=True)\n",
    "\n",
    "# Plot a bar chart\n",
    "value_counts.plot(kind='bar', color='skyblue')\n",
    "\n",
    "# Add title and labels\n",
    "plt.title(f'Class balances: {task_to_balance}')\n",
    "plt.xlabel('Values')\n",
    "plt.ylabel('Count')\n",
    "\n",
    "# Display the plot\n",
    "plt.show()\n",
    "value_counts"
   ]
  },
  {
   "cell_type": "code",
   "execution_count": 71,
   "metadata": {},
   "outputs": [
    {
     "data": {
      "image/png": "[encoded data removed]",
      "text/plain": [
       "<Figure size 640x480 with 1 Axes>"
      ]
     },
     "metadata": {},
     "output_type": "display_data"
    },
    {
     "data": {
      "text/plain": [
       "tooth_index\n",
       "3    574\n",
       "2    374\n",
       "4    138\n",
       "1     73\n",
       "Name: count, dtype: Int64"
      ]
     },
     "execution_count": 71,
     "metadata": {},
     "output_type": "execute_result"
    }
   ],
   "source": [
    "# 1234\n",
    "task_to_balance = '1234'\n",
    "column = task_column[task_to_balance]\n",
    "value_counts = tooth_labels[column].value_counts()\n",
    "\n",
    "# Plot a bar chart\n",
    "value_counts.plot(kind='bar', color='skyblue')\n",
    "\n",
    "# Add title and labels\n",
    "plt.title(f'Class balances: {task_to_balance}')\n",
    "plt.xlabel('Values')\n",
    "plt.ylabel('Count')\n",
    "\n",
    "# Display the plot\n",
    "plt.show()\n",
    "value_counts"
   ]
  },
  {
   "cell_type": "markdown",
   "metadata": {},
   "source": [
    "### Create new dataset with class-balancing images"
   ]
  },
  {
   "cell_type": "code",
   "execution_count": 73,
   "metadata": {},
   "outputs": [
    {
     "name": "stdout",
     "output_type": "stream",
     "text": [
      "Added 0 images for class 3\n",
      "Added 200 images for class 2\n",
      "Added 636 images for class 4\n",
      "Added 1137 images for class 1\n"
     ]
    }
   ],
   "source": [
    "random_number_generator = npr.default_rng()\n",
    "augmented_image_store = f'{torch_imagefolder_path}/{task_to_balance}'\n",
    "\n",
    "augmentation_transform = transforms.Compose([\n",
    "    transforms.RandomAffine(degrees=[-5,5], fill=255),\n",
    "    transforms.RandomResizedCrop(224, scale=(0.9, 1.0)),\n",
    "])\n",
    "\n",
    "def balance_column(colname, augmented_image_store):\n",
    "    options = list(value_counts.index)\n",
    "    to_augment = value_counts.max() - value_counts\n",
    "\n",
    "    image_i = 0\n",
    "    for classname, count_needed in to_augment.items():\n",
    "\n",
    "        samples_of_class = tooth_labels.loc[tooth_labels[colname] == classname]\n",
    "        \n",
    "        # directories are called up, low not 1, 0\n",
    "        if task_to_balance == 'upperlower':\n",
    "            classname = 'up' if classname == 1 else 'low'\n",
    "\n",
    "        for i in range(count_needed):\n",
    "            # take random image from data that is of given class\n",
    "            random_image = npr.choice(samples_of_class.index)\n",
    "            image_label = tooth_labels.loc[random_image]\n",
    "            image = Image.open(image_label['filename'])\n",
    "            aug_image = augmentation_transform(image)\n",
    "            aug_image.save(f'{augmented_image_store}/{classname}/{image_i}_aug.png')\n",
    "            image_i += 1\n",
    "        print(f'Added {image_i} images for class {classname}')\n",
    "\n",
    "balance_column(column, augmented_image_store)"
   ]
  },
  {
   "cell_type": "markdown",
   "metadata": {},
   "source": [
    "## Train, val, test split"
   ]
  },
  {
   "cell_type": "code",
   "execution_count": null,
   "metadata": {},
   "outputs": [
    {
     "name": "stdout",
     "output_type": "stream",
     "text": [
      "Sizes of datasets for upper/lower: train: 905, val: 154, test: 78\n",
      "Splits: train 0.8, val 0.14, test 0.07\n"
     ]
    }
   ],
   "source": [
    "# upper lower split\n",
    "\n",
    "# get filenames in image folder to complete train test split\n",
    "# u need to get paths for all classes eg upperlower/up/x.png, upperlower/low/y.png\n",
    "classes = ['up', 'low']\n",
    "image_stores = [f'{augmented_image_store}/{classs}' for classs in classes]\n",
    "samples_per_class = value_counts.max()\n",
    "\n",
    "image_paths = []\n",
    "for i, image_store in enumerate(image_stores):\n",
    "    images = glob.glob1(image_store, \"*.png\")\n",
    "    image_paths.extend([f'{classes[i]}/{filename}' for filename in images])\n",
    "\n",
    "# val granularity .5%, test granularity 1% -> split 1300 200 100\n",
    "train_valtest_split = 150/samples_per_class\n",
    "val_test_split = 50/150\n",
    "X_train, X_temp = train_test_split(image_paths, test_size=train_valtest_split, random_state=TRAIN_TEST_SPLIT_RANDOM_SEED)\n",
    "X_val, X_test = train_test_split(X_temp, test_size=val_test_split, random_state=TRAIN_TEST_SPLIT_RANDOM_SEED)\n",
    "print(f'Sizes of datasets for upper/lower: train: {len(X_train)}, val: {len(X_val)}, test: {len(X_test)}')\n",
    "print(f'Splits: train {round(len(X_train)/len(image_paths),2)}, val {round(len(X_val)/len(image_paths),2)}, test {round(len(X_test)/len(image_paths),2)}')"
   ]
  },
  {
   "cell_type": "code",
   "execution_count": 31,
   "metadata": {},
   "outputs": [
    {
     "name": "stdout",
     "output_type": "stream",
     "text": [
      "Sizes of datasets for MPI: train: 2071, test: 200\n",
      "Splits: train 0.91, test 0.09\n"
     ]
    }
   ],
   "source": [
    "# MPI split\n",
    "\n",
    "# get filenames in image folder to complete train test split\n",
    "# get paths for all classes\n",
    "classes = ['M', 'P', 'I']\n",
    "image_stores = [f'{augmented_image_store}/{classs}' for classs in classes]\n",
    "samples_per_class = value_counts.max()\n",
    "\n",
    "image_paths = []\n",
    "for i, image_store in enumerate(image_stores):\n",
    "    images = glob.glob1(image_store, \"*.png\")\n",
    "    image_paths.extend([f'{classes[i]}/{filename}' for filename in images])\n",
    "\n",
    "# no need for val data since no model selection is done -> only train test split\n",
    "# test granularity .5% -> split rest, 200\n",
    "train_test_split_frac = 200/(samples_per_class*3)\n",
    "X_train, X_test = train_test_split(image_paths, test_size=train_test_split_frac, random_state=TRAIN_TEST_SPLIT_RANDOM_SEED)\n",
    "print(f'Sizes of datasets for MPI: train: {len(X_train)}, test: {len(X_test)}')\n",
    "print(f'Splits: train {round(len(X_train)/len(image_paths),2)}, test {round(len(X_test)/len(image_paths),2)}')"
   ]
  },
  {
   "cell_type": "code",
   "execution_count": 59,
   "metadata": {},
   "outputs": [
    {
     "name": "stdout",
     "output_type": "stream",
     "text": [
      "Sizes of datasets for 123: train: 1521, test: 200\n",
      "Splits: train 0.88, test 0.12\n"
     ]
    }
   ],
   "source": [
    "# 123 split\n",
    "\n",
    "# get filenames in image folder to complete train test split\n",
    "# get paths for all classes\n",
    "classes = [1,2,3]\n",
    "image_stores = [f'{augmented_image_store}/{classs}' for classs in classes]\n",
    "samples_per_class = value_counts.max()\n",
    "\n",
    "image_paths = []\n",
    "for i, image_store in enumerate(image_stores):\n",
    "    images = glob.glob1(image_store, \"*.png\")\n",
    "    image_paths.extend([f'{classes[i]}/{filename}' for filename in images])\n",
    "\n",
    "# no need for val data since no model selection is done -> only train test split\n",
    "# test granularity .5% -> split rest, 200\n",
    "train_test_split_frac = 200/(samples_per_class*3)\n",
    "X_train, X_test = train_test_split(image_paths, test_size=train_test_split_frac, random_state=TRAIN_TEST_SPLIT_RANDOM_SEED)\n",
    "print(f'Sizes of datasets for 123: train: {len(X_train)}, test: {len(X_test)}')\n",
    "print(f'Splits: train {round(len(X_train)/len(image_paths),2)}, test {round(len(X_test)/len(image_paths),2)}')"
   ]
  },
  {
   "cell_type": "code",
   "execution_count": 76,
   "metadata": {},
   "outputs": [
    {
     "name": "stdout",
     "output_type": "stream",
     "text": [
      "Sizes of datasets for 123: train: 2026, test: 267\n",
      "Splits: train 0.88, test 0.12\n"
     ]
    }
   ],
   "source": [
    "# 1234 split\n",
    "\n",
    "# get filenames in image folder to complete train test split\n",
    "# get paths for all classes\n",
    "classes = [1,2,3,4]\n",
    "image_stores = [f'{augmented_image_store}/{classs}' for classs in classes]\n",
    "samples_per_class = value_counts.max()\n",
    "\n",
    "image_paths = []\n",
    "for i, image_store in enumerate(image_stores):\n",
    "    images = glob.glob1(image_store, \"*.png\")\n",
    "    image_paths.extend([f'{classes[i]}/{filename}' for filename in images])\n",
    "\n",
    "# no need for val data since no model selection is done -> only train test split\n",
    "# test granularity .5% -> split rest, 200\n",
    "train_test_split_frac = 200/(samples_per_class*3)\n",
    "X_train, X_test = train_test_split(image_paths, test_size=train_test_split_frac, random_state=TRAIN_TEST_SPLIT_RANDOM_SEED)\n",
    "print(f'Sizes of datasets for 123: train: {len(X_train)}, test: {len(X_test)}')\n",
    "print(f'Splits: train {round(len(X_train)/len(image_paths),2)}, test {round(len(X_test)/len(image_paths),2)}')"
   ]
  },
  {
   "cell_type": "code",
   "execution_count": 78,
   "metadata": {},
   "outputs": [],
   "source": [
    "# save train val and test images to correct directories\n",
    "image_store = augmented_image_store\n",
    "datasets = {'train': X_train, 'test': X_test}\n",
    "for directory, images in datasets.items():\n",
    "    image_destination = f'{image_store}/{directory}'\n",
    "    for image_path in images:\n",
    "        dest = f'{image_destination}/{image_path}'\n",
    "        src = f'{image_store}/{image_path}'\n",
    "        shutil.copy(src, dest)"
   ]
  },
  {
   "cell_type": "markdown",
   "metadata": {},
   "source": [
    "## Try vertical split for 1,2,3\n",
    "\n",
    "try covering the letter by removing left half of the image"
   ]
  },
  {
   "cell_type": "code",
   "execution_count": 24,
   "metadata": {},
   "outputs": [],
   "source": [
    "classes = [1,2,3]\n",
    "dirs = ['train', 'test']\n",
    "for directory in dirs:\n",
    "    path = f'{torch_imagefolder_path}/123_horizontal_split/{directory}'\n",
    "    for classs in classes:\n",
    "        images = glob.glob1(f'{path}/{classs}', \"*.png\")\n",
    "        for image in images:\n",
    "            img = cv2.imread(f'{path}/{classs}/{image}')\n",
    "            img = img[:,round(img.shape[1]/2):img.shape[1],:]\n",
    "            cv2.imwrite(f'{path}/{classs}/{image}', img)\n",
    "    \n"
   ]
  },
  {
   "cell_type": "code",
   "execution_count": null,
   "metadata": {},
   "outputs": [],
   "source": []
  }
 ],
 "metadata": {
  "kernelspec": {
   "display_name": "base",
   "language": "python",
   "name": "python3"
  },
  "language_info": {
   "codemirror_mode": {
    "name": "ipython",
    "version": 3
   },
   "file_extension": ".py",
   "mimetype": "text/x-python",
   "name": "python",
   "nbconvert_exporter": "python",
   "pygments_lexer": "ipython3",
   "version": "3.11.5"
  }
 },
 "nbformat": 4,
 "nbformat_minor": 2
}
