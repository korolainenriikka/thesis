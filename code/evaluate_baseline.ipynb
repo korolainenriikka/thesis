{
 "cells": [
  {
   "cell_type": "markdown",
   "metadata": {},
   "source": [
    "# TRocr evaluation\n",
    "\n",
    "emulated from: https://colab.research.google.com/github/NielsRogge/Transformers-Tutorials/blob/master/TrOCR/Evaluating_TrOCR_base_handwritten_on_the_IAM_test_set.ipynb?pli=1&authuser=1#scrollTo=Nkaki4CgZJNw"
   ]
  },
  {
   "cell_type": "code",
   "execution_count": 8,
   "metadata": {},
   "outputs": [],
   "source": [
    "import pandas as pd\n",
    "import numpy as np\n",
    "import os\n",
    "\n",
    "import torch\n",
    "from torch.utils.data import Dataset\n",
    "from PIL import Image\n",
    "\n",
    "from transformers import TrOCRProcessor, VisionEncoderDecoderModel\n",
    "from torch.utils.data import DataLoader\n",
    "\n",
    "from datasets import load_metric\n",
    "from difflib import SequenceMatcher\n",
    "import mlflow\n",
    "\n",
    "# fine-tuning dependencies\n",
    "from sklearn.model_selection import train_test_split"
   ]
  },
  {
   "cell_type": "markdown",
   "metadata": {},
   "source": [
    "Experiment parameters (log these to MLflow)"
   ]
  },
  {
   "cell_type": "code",
   "execution_count": 17,
   "metadata": {},
   "outputs": [],
   "source": [
    "DATA_DIR = '/home/riikoro/fossil_data/tooth_samples'\n",
    "DATA_VERSIONS = [1, 2]\n",
    "MAX_TARGET_LENGTH = 64 \n",
    "MODEL = 'microsoft/trocr-large-handwritten'\n",
    "BATCH_SIZE = 2\n",
    "NUM_EPOCHS = 1 # for now, to save training time"
   ]
  },
  {
   "cell_type": "code",
   "execution_count": 54,
   "metadata": {},
   "outputs": [
    {
     "data": {
      "text/plain": [
       "index                                         55\n",
       "filename                               v1/55.png\n",
       "text        Isolated L.P4̌; R.M1̌; R.M2̌; L.M2̌;\n",
       "Name: 55, dtype: object"
      ]
     },
     "execution_count": 54,
     "metadata": {},
     "output_type": "execute_result"
    }
   ],
   "source": [
    "dfs = []\n",
    "for version in DATA_VERSIONS:\n",
    "    df = pd.read_csv(os.path.join(DATA_DIR, f'v{version}', 'labels.tsv'), sep='\\t')\n",
    "    df['filename'] = f'v{version}/' + df['filename']\n",
    "    dfs.append(df)\n",
    "# label_dfs = [ for data_dir in data_dirs]\n",
    "# label_dfs[0].head()\n",
    "# TODO: read v2 labels\n",
    "label_df = pd.concat(dfs, axis=0).reset_index()\n",
    "label_df.iloc[55]"
   ]
  },
  {
   "cell_type": "code",
   "execution_count": 4,
   "metadata": {},
   "outputs": [
    {
     "name": "stdout",
     "output_type": "stream",
     "text": [
      "Distal half left humerus with broken medial\n"
     ]
    }
   ],
   "source": [
    "print(label_df['text'][0])"
   ]
  },
  {
   "cell_type": "code",
   "execution_count": 5,
   "metadata": {},
   "outputs": [],
   "source": [
    "class FossilDataset(Dataset):\n",
    "    def __init__(self, root_dir, df, processor, max_target_length):\n",
    "        self.root_dir = root_dir\n",
    "        self.df = df\n",
    "        self.processor = processor\n",
    "        self.max_target_length = max_target_length\n",
    "\n",
    "    def __len__(self):\n",
    "        return len(self.df)\n",
    "\n",
    "    def __getitem__(self, idx):\n",
    "        # get file name + text \n",
    "        file_name = self.df['filename'][idx]\n",
    "        text = self.df['text'][idx]\n",
    "\n",
    "        # prepare image (i.e. resize + normalize)\n",
    "        image = Image.open(os.path.join(self.root_dir, file_name)).convert(\"RGB\")\n",
    "        pixel_values = self.processor(image, return_tensors=\"pt\").pixel_values\n",
    "        # add labels (input_ids) by encoding the text\n",
    "        labels = self.processor.tokenizer(text, \n",
    "                                          padding=\"max_length\", \n",
    "                                          max_length=self.max_target_length).input_ids\n",
    "        # important: make sure that PAD tokens are ignored by the loss function\n",
    "        labels = [label if label != self.processor.tokenizer.pad_token_id else -100 for label in labels]\n",
    "\n",
    "        encoding = {\"pixel_values\": pixel_values.squeeze(), \"labels\": torch.tensor(labels)}\n",
    "        return encoding"
   ]
  },
  {
   "cell_type": "code",
   "execution_count": 11,
   "metadata": {},
   "outputs": [],
   "source": [
    "processor = TrOCRProcessor.from_pretrained(MODEL)\n",
    "test_dataset = FossilDataset(root_dir=DATA_DIR, df=label_df, processor=processor, max_target_length=MAX_TARGET_LENGTH)\n",
    "test_dataloader = DataLoader(test_dataset, batch_size=BATCH_SIZE)"
   ]
  },
  {
   "cell_type": "code",
   "execution_count": 25,
   "metadata": {},
   "outputs": [
    {
     "name": "stdout",
     "output_type": "stream",
     "text": [
      "pixel_values torch.Size([2, 3, 384, 384])\n",
      "labels torch.Size([2, 64])\n"
     ]
    }
   ],
   "source": [
    "batch = next(iter(test_dataloader))\n",
    "for k,v in batch.items():\n",
    "  print(k, v.shape)"
   ]
  },
  {
   "cell_type": "code",
   "execution_count": 26,
   "metadata": {},
   "outputs": [
    {
     "data": {
      "text/plain": [
       "['Distal half left humerus with broken medial', 'Isolated']"
      ]
     },
     "execution_count": 26,
     "metadata": {},
     "output_type": "execute_result"
    }
   ],
   "source": [
    "labels = batch[\"labels\"]\n",
    "labels[labels == -100] = processor.tokenizer.pad_token_id\n",
    "label_str = processor.batch_decode(labels, skip_special_tokens=True)\n",
    "label_str"
   ]
  },
  {
   "cell_type": "markdown",
   "metadata": {},
   "source": [
    "## Evaluate"
   ]
  },
  {
   "cell_type": "code",
   "execution_count": 30,
   "metadata": {},
   "outputs": [
    {
     "data": {
      "text/plain": [
       "VisionEncoderDecoderModel(\n",
       "  (encoder): ViTModel(\n",
       "    (embeddings): ViTEmbeddings(\n",
       "      (patch_embeddings): ViTPatchEmbeddings(\n",
       "        (projection): Conv2d(3, 1024, kernel_size=(16, 16), stride=(16, 16))\n",
       "      )\n",
       "      (dropout): Dropout(p=0.0, inplace=False)\n",
       "    )\n",
       "    (encoder): ViTEncoder(\n",
       "      (layer): ModuleList(\n",
       "        (0-23): 24 x ViTLayer(\n",
       "          (attention): ViTAttention(\n",
       "            (attention): ViTSelfAttention(\n",
       "              (query): Linear(in_features=1024, out_features=1024, bias=False)\n",
       "              (key): Linear(in_features=1024, out_features=1024, bias=False)\n",
       "              (value): Linear(in_features=1024, out_features=1024, bias=False)\n",
       "              (dropout): Dropout(p=0.0, inplace=False)\n",
       "            )\n",
       "            (output): ViTSelfOutput(\n",
       "              (dense): Linear(in_features=1024, out_features=1024, bias=True)\n",
       "              (dropout): Dropout(p=0.0, inplace=False)\n",
       "            )\n",
       "          )\n",
       "          (intermediate): ViTIntermediate(\n",
       "            (dense): Linear(in_features=1024, out_features=4096, bias=True)\n",
       "            (intermediate_act_fn): GELUActivation()\n",
       "          )\n",
       "          (output): ViTOutput(\n",
       "            (dense): Linear(in_features=4096, out_features=1024, bias=True)\n",
       "            (dropout): Dropout(p=0.0, inplace=False)\n",
       "          )\n",
       "          (layernorm_before): LayerNorm((1024,), eps=1e-12, elementwise_affine=True)\n",
       "          (layernorm_after): LayerNorm((1024,), eps=1e-12, elementwise_affine=True)\n",
       "        )\n",
       "      )\n",
       "    )\n",
       "    (layernorm): LayerNorm((1024,), eps=1e-12, elementwise_affine=True)\n",
       "    (pooler): ViTPooler(\n",
       "      (dense): Linear(in_features=1024, out_features=1024, bias=True)\n",
       "      (activation): Tanh()\n",
       "    )\n",
       "  )\n",
       "  (decoder): TrOCRForCausalLM(\n",
       "    (model): TrOCRDecoderWrapper(\n",
       "      (decoder): TrOCRDecoder(\n",
       "        (embed_tokens): Embedding(50265, 1024, padding_idx=1)\n",
       "        (embed_positions): TrOCRLearnedPositionalEmbedding(514, 1024)\n",
       "        (layernorm_embedding): LayerNorm((1024,), eps=1e-05, elementwise_affine=True)\n",
       "        (layers): ModuleList(\n",
       "          (0-11): 12 x TrOCRDecoderLayer(\n",
       "            (self_attn): TrOCRAttention(\n",
       "              (k_proj): Linear(in_features=1024, out_features=1024, bias=True)\n",
       "              (v_proj): Linear(in_features=1024, out_features=1024, bias=True)\n",
       "              (q_proj): Linear(in_features=1024, out_features=1024, bias=True)\n",
       "              (out_proj): Linear(in_features=1024, out_features=1024, bias=True)\n",
       "            )\n",
       "            (activation_fn): GELUActivation()\n",
       "            (self_attn_layer_norm): LayerNorm((1024,), eps=1e-05, elementwise_affine=True)\n",
       "            (encoder_attn): TrOCRAttention(\n",
       "              (k_proj): Linear(in_features=1024, out_features=1024, bias=True)\n",
       "              (v_proj): Linear(in_features=1024, out_features=1024, bias=True)\n",
       "              (q_proj): Linear(in_features=1024, out_features=1024, bias=True)\n",
       "              (out_proj): Linear(in_features=1024, out_features=1024, bias=True)\n",
       "            )\n",
       "            (encoder_attn_layer_norm): LayerNorm((1024,), eps=1e-05, elementwise_affine=True)\n",
       "            (fc1): Linear(in_features=1024, out_features=4096, bias=True)\n",
       "            (fc2): Linear(in_features=4096, out_features=1024, bias=True)\n",
       "            (final_layer_norm): LayerNorm((1024,), eps=1e-05, elementwise_affine=True)\n",
       "          )\n",
       "        )\n",
       "      )\n",
       "    )\n",
       "    (output_projection): Linear(in_features=1024, out_features=50265, bias=False)\n",
       "  )\n",
       ")"
      ]
     },
     "execution_count": 30,
     "metadata": {},
     "output_type": "execute_result"
    }
   ],
   "source": [
    "device = 'cpu' # no gpu available\n",
    "\n",
    "# model = VisionEncoderDecoderModel.from_pretrained(MODEL) for initial, untuned model\n",
    "model = VisionEncoderDecoderModel.from_pretrained('.') # the fine-tuned model\n",
    "model.to(device)"
   ]
  },
  {
   "cell_type": "code",
   "execution_count": 31,
   "metadata": {},
   "outputs": [],
   "source": [
    "cer = load_metric(\"cer\")"
   ]
  },
  {
   "cell_type": "code",
   "execution_count": 32,
   "metadata": {},
   "outputs": [
    {
     "name": "stdout",
     "output_type": "stream",
     "text": [
      "Running evaluation...\n"
     ]
    },
    {
     "data": {
      "application/vnd.jupyter.widget-view+json": {
       "model_id": "1f723089df9a405a8807df9d8e0ca9d5",
       "version_major": 2,
       "version_minor": 0
      },
      "text/plain": [
       "  0%|          | 0/50 [00:00<?, ?it/s]"
      ]
     },
     "metadata": {},
     "output_type": "display_data"
    },
    {
     "name": "stdout",
     "output_type": "stream",
     "text": [
      "['Isolated humal', 'Isolated']\n",
      "['Distal half left humerus with broken medial', 'Isolated']\n",
      "['Lt. LM1�', 'LM2�']\n",
      "['LI2̌, RM̱2̌ & tooth frags (8)', 'LM2̌']\n",
      "[' right right right humal', 'Isolated']\n",
      "['right maxilla with frag of zygomatic and', 'Isolated']\n",
      "['alterior', 'fral']\n",
      "['anterior', 'man']\n",
      "['Isolated R2̌�', 'LeftLeftLeft right']\n",
      "['Isolated RC̱, RP4̱̂, RM', 'Left mandible frag with broken P4̌, M1̌ and']\n",
      "['Isolated', 'R2̂�']\n",
      "['Isolated', 'M3̂']\n",
      "['Isolated fragag with', 'Shaft lacking�']\n",
      "['frag wi I2̄̌ alveolus, croots P3̄̌-M2̄̌', 'Shaft lacking distal & proximal ends']\n",
      "['fragible humal', 'proximal']\n",
      "['Frag left mandibular corpus lacking teeth', 'proximal frag. right ulna']\n",
      "['L mandible frag with muš��', 'A1̌']\n",
      "['L mandible frag with roots M2̌-̌3̌', 'A: 4 upper premolar (P3̱̌) unerrupted. L. mbs']\n",
      "['frag. proximal', 'Isolated']\n",
      "['frag. right ulna proximal erd. wt. shaft.', 'lokote']\n",
      "['fragible humus�', 'R1�']\n",
      "['A = frag left mandible corpus with M3̌ roots', 'M3̂']\n",
      "['fracklefragible', 'Maudible lacking']\n",
      "['RT.mandible frag with P4̌-M2̌', 'Mandible lacking left ascending ramus;']\n",
      "['Rt.', 'Lt.']\n",
      "['Rt P4̄̌', 'LM1̂']\n",
      "['Brokenimal', 'Isolated RM1̌']\n",
      "['Broken molar!(M̱)', 'Isolated RM2̌, RM3̌, broken LM3̌']\n",
      "['LM mandible frag with M1�', 'Proximal right right']\n",
      "['L mandible frag with M1̌-̌3̌', 'Proximal part right femur']\n",
      "['R1̌', 'LeftLeftLeft']\n",
      "['A= R mandible with M2̄̌-̌3̄̌ M1̌ root', 'Left ulna lacking distal epiphysis']\n",
      "['A & distal', 'Rt.']\n",
      "['A = distal end left femur', 'Rt.']\n",
      "['Proximal', 'ProProximal right']\n",
      "['proximal', 'Proximal & distal end right femur']\n",
      "['RightRightRightRight humer.', 'LeftLeftLeft']\n",
      "['Right humerus lacking prox. epiphysis', 'Left mandible frag with M3̌']\n",
      "['�', 'Lt.']\n",
      "['LM2̱̂', 'LM3̌']\n",
      "['RightRightRightR1�', 'Isolated R1̌ LM1, LM1� LM2� LM3�']\n",
      "['Right mandible frag with broken M1̌-̌3̌', 'Isolated LM1̌, RM3̌, LM3̌, R1/2LM1̌']\n",
      "['Prox. with M1̌', 'frag.']\n",
      "['A= R mandible with C̄-M1̌', 'frontal frag']\n",
      "['Prox.', 'frolated']\n",
      "['A= Lt tibia', 'lokote']\n",
      "['Mandible frag� LM1� LM3�', 'Isolated LM4�']\n",
      "['Mandible frag with errupting LM2̌, LM3̌ &', 'Isolated LP3̌, LP4̌, broken LM2̌']\n",
      "['Isolated', 'R mandible�']\n",
      "['Isolated', 'R mandible & partial skeleton (P.T.O)']\n",
      "['Distal right humus', 'A1 shaftal humerus']\n",
      "['Distal half right humerus', 'A = shaft L humerus frag.']\n",
      "['Lt. Edal.', 'L mandible frag with M4̌']\n",
      "['Lt. Edentulous frag', 'L mandible frag with M2̌-̌3̌']\n",
      "['R3̌', 'Isolated LM1�']\n",
      "['B= RM3̂ & tooth frags (12)', 'Isolated L.P4̌; R.M1̌; R.M2̌; L.M2̌;']\n",
      "['Isolated', 'LeftLeftLeft humag with P4̂�']\n",
      "['Isolated L.C̱, RM3̱̂, LM3̱̂, LM2̱̂, LM3̌', 'Left max.frag with P4̱̂M3̂']\n",
      "['Left Left LeftLeft humal with with with', 'R.']\n",
      "['A= Left mandibular corpus with teeth M1̄̌-M3̄̌', 'R.C̄root']\n",
      "['max frag with 1�', 'Prox. radius']\n",
      "['max frag with 1/2M2̂-M3̂', 'prox R radius']\n",
      "['L calal', 'Distal']\n",
      "['L calcaneum', 'Distal left humerus frag']\n",
      "['ProProx.', 'Prox. prox']\n",
      "['Proximal end right femur (goeates trochauter', 'A: prox']\n",
      "['R mandible frag with P3̌��', 'Prox (']\n",
      "['R mandible frag with roots P3̌-M3̌', 'P3̄̌ (Crown)']\n",
      "['Prox. frag.', 'M2�']\n",
      "['? P4̱̂ frag.', 'Molar frag.']\n",
      "['Prox.', 'Prox. frag.']\n",
      "['P3̱̂ frag. (Crown)', '? Mx̲ frag.']\n",
      "['Tusk frag.', 'Proxolar frag. P3�']\n",
      "['Tusk frag.', 'Premolar frag -? P3̌']\n",
      "['Pro phag.', 'ProProx.']\n",
      "['Metapodial frag.', 'Premolar frag. (Crow']\n",
      "['Prox.', '? Distalimal']\n",
      "['Prox. metapodial', '? Distal metapodial']\n",
      "['Prox.', 'Prox. Scapula']\n",
      "['P3̌ Crown', 'Prox. Scapula frag']\n",
      "['frag.', 'Rt.']\n",
      "['frag.', 'Rt. I2̄̌ frag.']\n",
      "[' humer ( ( Complete (', 'Podal']\n",
      "['Humerus (Complete)', 'Podial']\n",
      "['? Scapula-', 'Lt. P3̱']\n",
      "['? Scapula', 'Lt. P3̄̌']\n",
      "['Podal (', '?Podial']\n",
      "['Podial (Complete)', '?Podial']\n",
      "['Rt.', 'Lt. frag.M2�']\n",
      "['? Rt. Md. frag. wt Px̄', 'Lt. md. frag. wt M2̄̌-̌']\n",
      "['Lt. Mt. with P4̱��', 'Prox. phal']\n",
      "['Lt. Md. frag. wt dP3̄̌, P4̄̌-M1̄̌', 'Prox. phalanx']\n",
      "['Pro humal', 'Lt. frag.']\n",
      "['Femoral head.', 'Lt. C̱ frag.']\n",
      "['Prox.', 'Prox. phal�']\n",
      "['Px̄ frag.', 'Prox. phalanx']\n",
      "['frat. humeral', 'Prox. phal']\n",
      "['Edentulous md. (2 unassoc. elemen', 'Prox. intermediate phal']\n",
      "['Isolated']\n",
      "['• I̲ frag.']\n"
     ]
    }
   ],
   "source": [
    "from tqdm.notebook import tqdm\n",
    "\n",
    "print(\"Running evaluation...\")\n",
    "\n",
    "predictions = []\n",
    "for batch in tqdm(test_dataloader):\n",
    "    # predict using generate\n",
    "    pixel_values = batch[\"pixel_values\"].to(device)\n",
    "    outputs = model.generate(pixel_values, max_new_tokens=MAX_TARGET_LENGTH)\n",
    "\n",
    "    # decode\n",
    "    pred_str = processor.batch_decode(outputs, skip_special_tokens=True)\n",
    "    print(pred_str)\n",
    "    predictions.append(pred_str)\n",
    "    labels = batch[\"labels\"]\n",
    "    labels[labels == -100] = processor.tokenizer.pad_token_id\n",
    "    label_str = processor.batch_decode(labels, skip_special_tokens=True)\n",
    "    print(label_str)\n",
    "\n",
    "    # add batch to metric\n",
    "    cer.add_batch(predictions=pred_str, references=label_str)\n",
    "\n",
    "final_score = cer.compute()"
   ]
  },
  {
   "cell_type": "code",
   "execution_count": 33,
   "metadata": {},
   "outputs": [
    {
     "name": "stdout",
     "output_type": "stream",
     "text": [
      "correct:   Distal half left humerus with broken medial, Isolated, LI2̌, RM̱2̌ & tooth frags (8), LM2̌, right maxilla with frag of zygomatic and, Isolated, anterior, man, Isolated RC̱, RP4̱̂, RM, Left mandible frag with broken P4̌, M1̌ and, Isolated, M3̂, frag wi I2̄̌ alveolus, croots P3̄̌-M2̄̌, Shaft lacking distal & proximal ends, Frag left mandibular corpus lacking teeth, proximal frag. right ulna, L mandible frag with roots M2̌-̌3̌, A: 4 upper premolar (P3̱̌) unerrupted. L. mbs, frag. right ulna proximal erd. wt. shaft., lokote, A = frag left mandible corpus with M3̌ roots, M3̂, RT.mandible frag with P4̌-M2̌, Mandible lacking left ascending ramus;, Rt P4̄̌, LM1̂, Broken molar !(M̱), Isolated RM2̌, RM3̌, broken LM3̌, L mandible frag with M1̌-̌3̌, Proximal part right femur, A= R mandible with M2̄̌-̌3̄̌ M1̌ root, Left ulna lacking distal epiphysis, A = distal end left femur, Rt., proximal, Proximal & distal end right femur, Right humerus lacking prox. epiphysis, Left mandible frag with M3̌, LM2̱̂, LM3̌, Right mandible frag with broken M1̌-̌3̌, Isolated LM1̌, RM3̌, LM3̌, R1/2LM1̌, A= R mandible with C̄-M1̌, frontal frag, A= Lt tibia, lokote, Mandible frag with errupting LM2̌, LM3̌ &, Isolated LP3̌, LP4̌, broken LM2̌, Isolated, R mandible & partial skeleton (P.T.O), Distal half right humerus, A = shaft L humerus frag., Lt. Edentulous frag, L mandible frag with M2̌-̌3̌, B= RM3̂ & tooth frags (12), Isolated L.P4̌; R.M1̌; R.M2̌; L.M2̌;, Isolated L.C̱, RM3̱̂, LM3̱̂, LM2̱̂, LM3̌, Left max.frag with P4̱̂M3̂, A= Left mandibular corpus with teeth M1̄̌-M3̄̌, R.C̄root, max frag with 1/2M2̂-M3̂, prox R radius, L calcaneum, Distal left humerus frag, Proximal end right femur (goeates trochauter, A: prox, R mandible frag with roots P3̌-M3̌, P3̄̌ (Crown), ? P4̱̂ frag., Molar frag., P3̱̂ frag. (Crown), ? Mx̲ frag., Tusk frag., Premolar frag - ? P3̌, Metapodial frag., Premolar frag. (Crow, Prox. metapodial, ? Distal metapodial, P3̌ Crown, Prox. Scapula frag, frag., Rt. I2̄̌ frag., Humerus (Complete), Podial, ? Scapula, Lt. P3̄̌, Podial (Complete), ?Podial, ? Rt. Md. frag. wt Px̄, Lt. md. frag. wt M2̄̌-̌, Lt. Md. frag. wt dP3̄̌, P4̄̌-M1̄̌, Prox. phalanx, Femoral head., Lt. C̱ frag., Px̄ frag., Prox. phalanx, Edentulous md. (2 unassoc. elemen, Prox. intermediate phal, • I̲ frag.\n",
      "predicted: Isolated humal, Isolated, Lt. LM1�, LM2�,  right right right humal, Isolated, alterior, fral, Isolated R2̌�, LeftLeftLeft right, Isolated, R2̂�, Isolated fragag with, Shaft lacking�, fragible humal, proximal, L mandible frag with muš��, A1̌, frag. proximal, Isolated, fragible humus�, R1�, fracklefragible, Maudible lacking, Rt., Lt., Brokenimal, Isolated RM1̌, LM mandible frag with M1�, Proximal right right, R1̌, LeftLeftLeft, A & distal, Rt., Proximal, ProProximal right, RightRightRightRight humer., LeftLeftLeft, �, Lt., RightRightRightR1�, Isolated R1̌ LM1, LM1� LM2� LM3�, Prox. with M1̌, frag., Prox., frolated, Mandible frag� LM1� LM3�, Isolated LM4�, Isolated, R mandible�, Distal right humus, A1 shaftal humerus, Lt. Edal., L mandible frag with M4̌, R3̌, Isolated LM1�, Isolated, LeftLeftLeft humag with P4̂�, Left Left LeftLeft humal with with with, R., max frag with 1�, Prox. radius, L calal, Distal, ProProx., Prox. prox, R mandible frag with P3̌��, Prox (, Prox. frag., M2�, Prox., Prox. frag., Tusk frag., Proxolar frag. P3�, Pro phag., ProProx., Prox., ? Distalimal, Prox., Prox. Scapula, frag., Rt.,  humer ( ( Complete (, Podal, ? Scapula-, Lt. P3̱, Podal (, ?Podial, Rt., Lt. frag.M2�, Lt. Mt. with P4̱��, Prox. phal, Pro humal, Lt. frag., Prox., Prox. phal�, frat. humeral, Prox. phal, Isolated\n",
      "Character error rate on test set: 0.6213499281953088\n",
      "Sequence matcher score, baseline: 0.5290067075127263\n"
     ]
    }
   ],
   "source": [
    "def similarity(x, y):\n",
    "    return SequenceMatcher(None, x, y).ratio()\n",
    "\n",
    "def sequence_matcher_score(labels, predicted_labels):\n",
    "    similarities = np.array([0.0] * len(labels))\n",
    "    for i in range(len(labels)):\n",
    "        similarities[i] = similarity(predicted_labels[i], labels[i])\n",
    "    return np.mean(similarities)\n",
    "\n",
    "predicted_labels = []\n",
    "for pred_batch in predictions:\n",
    "    predicted_labels.extend(pred_batch)\n",
    "\n",
    "labels = list(label_df['text'])\n",
    "print('correct:   ' + ', '.join(labels))\n",
    "print('predicted: ' + ', '.join(predicted_labels))\n",
    "print(\"Character error rate on test set:\", final_score)\n",
    "sequence_score = sequence_matcher_score(labels, predicted_labels)\n",
    "print(f\"Sequence matcher score, baseline: {sequence_score}\")"
   ]
  },
  {
   "cell_type": "code",
   "execution_count": 36,
   "metadata": {},
   "outputs": [],
   "source": [
    "# save evaluation labels & predicted labels to files to visually inspect differences\n",
    "with open('output/predicted_labels.txt', 'w') as file:\n",
    "    file.write('\\n'.join(predicted_labels))\n"
   ]
  },
  {
   "cell_type": "markdown",
   "metadata": {},
   "source": [
    "## MLflow"
   ]
  },
  {
   "cell_type": "code",
   "execution_count": 53,
   "metadata": {},
   "outputs": [
    {
     "name": "stdout",
     "output_type": "stream",
     "text": [
      "env: MLFLOW_TRACKING_URI=sqlite:///mlruns.db\n"
     ]
    }
   ],
   "source": [
    "%env MLFLOW_TRACKING_URI=sqlite:///mlruns.db\n",
    "mlflow.set_experiment(\"Dental element OCR\")\n",
    "\n",
    "params = {\n",
    "    'data_versions': DATA_VERSIONS,\n",
    "    'max_new_tokens': MAX_TARGET_LENGTH,\n",
    "    'model': MODEL,\n",
    "    'batch_size': BATCH_SIZE,\n",
    "    'num_epochs': NUM_EPOCHS\n",
    "}\n",
    "\n",
    "# Start an MLflow run\n",
    "with mlflow.start_run():\n",
    "    # Log the hyperparameters\n",
    "    mlflow.log_params(params)\n",
    "\n",
    "    # Log metrics\n",
    "    mlflow.log_metric(\"sequence matcher score\", sequence_score)\n",
    "    mlflow.log_metric('cer', final_score)\n",
    "\n",
    "    # Log output files (predicted labels & model)\n",
    "    # mlflow.log_artifacts('./output') wip, not working....\n",
    "\n",
    "    # Set a tag that we can use to remind ourselves what this run was for\n",
    "    mlflow.set_tag(\"info\", \"First fine-tune for TrOCR-handwritten-large, emulated from https://github.com/NielsRogge/Transformers-Tutorials\")"
   ]
  },
  {
   "cell_type": "markdown",
   "metadata": {},
   "source": [
    "# Fine-tune\n",
    "\n",
    "work in progress... from https://github.com/NielsRogge/Transformers-Tutorials/blob/master/TrOCR/Fine_tune_TrOCR_on_IAM_Handwriting_Database_using_native_PyTorch.ipynb"
   ]
  },
  {
   "cell_type": "code",
   "execution_count": 9,
   "metadata": {},
   "outputs": [],
   "source": [
    "train_df, test_df = train_test_split(label_df, test_size=0.2)\n",
    "# we reset the indices to start from zero\n",
    "train_df.reset_index(drop=True, inplace=True)\n",
    "test_df.reset_index(drop=True, inplace=True)"
   ]
  },
  {
   "cell_type": "code",
   "execution_count": 12,
   "metadata": {},
   "outputs": [
    {
     "name": "stdout",
     "output_type": "stream",
     "text": [
      "Number of training examples: 79\n",
      "Number of validation examples: 20\n"
     ]
    }
   ],
   "source": [
    "train_dataset = FossilDataset(root_dir=DATA_DIR, df=train_df, processor=processor, max_target_length=MAX_TARGET_LENGTH)\n",
    "eval_dataset = FossilDataset(root_dir=DATA_DIR, df=test_df, processor=processor, max_target_length=MAX_TARGET_LENGTH)\n",
    "print(\"Number of training examples:\", len(train_dataset))\n",
    "print(\"Number of validation examples:\", len(eval_dataset))"
   ]
  },
  {
   "cell_type": "code",
   "execution_count": 13,
   "metadata": {},
   "outputs": [
    {
     "data": {
      "image/png": "[encoded data removed]",
      "text/plain": [
       "<PIL.Image.Image image mode=RGB size=478x141>"
      ]
     },
     "execution_count": 13,
     "metadata": {},
     "output_type": "execute_result"
    }
   ],
   "source": [
    "image = Image.open(train_dataset.root_dir +'/' + train_df['filename'][0]).convert(\"RGB\")\n",
    "image"
   ]
  },
  {
   "cell_type": "code",
   "execution_count": 14,
   "metadata": {},
   "outputs": [
    {
     "name": "stdout",
     "output_type": "stream",
     "text": [
      "A: prox\n"
     ]
    }
   ],
   "source": [
    "encoding = train_dataset[0]\n",
    "labels = encoding['labels']\n",
    "labels[labels == -100] = processor.tokenizer.pad_token_id\n",
    "label_str = processor.decode(labels, skip_special_tokens=True)\n",
    "print(label_str)"
   ]
  },
  {
   "cell_type": "code",
   "execution_count": 15,
   "metadata": {},
   "outputs": [],
   "source": [
    "train_dataloader = DataLoader(train_dataset, batch_size=BATCH_SIZE, shuffle=True)\n",
    "eval_dataloader = DataLoader(eval_dataset, batch_size=BATCH_SIZE)"
   ]
  },
  {
   "cell_type": "code",
   "execution_count": 16,
   "metadata": {},
   "outputs": [],
   "source": [
    "# not changed from tutorial, TODO: figure out vocabulary\n",
    "# set special tokens used for creating the decoder_input_ids from the labels\n",
    "model.config.decoder_start_token_id = processor.tokenizer.cls_token_id\n",
    "model.config.pad_token_id = processor.tokenizer.pad_token_id\n",
    "# make sure vocab size is set correctly\n",
    "model.config.vocab_size = model.config.decoder.vocab_size\n",
    "\n",
    "# set beam search parameters\n",
    "model.config.eos_token_id = processor.tokenizer.sep_token_id\n",
    "model.config.max_length = 64\n",
    "model.config.early_stopping = True\n",
    "model.config.no_repeat_ngram_size = 3\n",
    "model.config.length_penalty = 2.0\n",
    "model.config.num_beams = 4"
   ]
  },
  {
   "cell_type": "code",
   "execution_count": 24,
   "metadata": {},
   "outputs": [],
   "source": [
    "cer_metric = load_metric(\"cer\")\n",
    "\n",
    "def compute_cer(pred_ids, label_ids):\n",
    "    pred_str = processor.batch_decode(pred_ids, skip_special_tokens=True)\n",
    "    label_ids[label_ids == -100] = processor.tokenizer.pad_token_id\n",
    "    label_str = processor.batch_decode(label_ids, skip_special_tokens=True)\n",
    "\n",
    "    cer = cer_metric.compute(predictions=pred_str, references=label_str)\n",
    "\n",
    "    return cer"
   ]
  },
  {
   "cell_type": "code",
   "execution_count": 19,
   "metadata": {},
   "outputs": [
    {
     "data": {
      "application/vnd.jupyter.widget-view+json": {
       "model_id": "bff86905ecd4429cb657aa7c35e0f1b1",
       "version_major": 2,
       "version_minor": 0
      },
      "text/plain": [
       "  0%|          | 0/40 [00:00<?, ?it/s]"
      ]
     },
     "metadata": {},
     "output_type": "display_data"
    },
    {
     "name": "stdout",
     "output_type": "stream",
     "text": [
      "Loss after epoch 0: 5.5647883921861645\n"
     ]
    },
    {
     "data": {
      "application/vnd.jupyter.widget-view+json": {
       "model_id": "edf1119f2dc94d44a7c17b92340344dc",
       "version_major": 2,
       "version_minor": 0
      },
      "text/plain": [
       "  0%|          | 0/10 [00:00<?, ?it/s]"
      ]
     },
     "metadata": {},
     "output_type": "display_data"
    },
    {
     "name": "stderr",
     "output_type": "stream",
     "text": [
      "/home/riikoro/anaconda3/lib/python3.11/site-packages/transformers/generation/utils.py:1417: UserWarning: You have modified the pretrained model configuration to control generation. This is a deprecated strategy to control generation and will be removed soon, in a future version. Please use a generation configuration file (see https://huggingface.co/docs/transformers/main_classes/text_generation )\n",
      "  warnings.warn(\n"
     ]
    },
    {
     "ename": "NameError",
     "evalue": "name 'cer_metric' is not defined",
     "output_type": "error",
     "traceback": [
      "\u001b[0;31m---------------------------------------------------------------------------\u001b[0m",
      "\u001b[0;31mNameError\u001b[0m                                 Traceback (most recent call last)",
      "Cell \u001b[0;32mIn[19], line 33\u001b[0m\n\u001b[1;32m     31\u001b[0m     outputs \u001b[38;5;241m=\u001b[39m model\u001b[38;5;241m.\u001b[39mgenerate(batch[\u001b[38;5;124m\"\u001b[39m\u001b[38;5;124mpixel_values\u001b[39m\u001b[38;5;124m\"\u001b[39m]\u001b[38;5;241m.\u001b[39mto(device))\n\u001b[1;32m     32\u001b[0m     \u001b[38;5;66;03m# compute metrics\u001b[39;00m\n\u001b[0;32m---> 33\u001b[0m     cer \u001b[38;5;241m=\u001b[39m \u001b[43mcompute_cer\u001b[49m\u001b[43m(\u001b[49m\u001b[43mpred_ids\u001b[49m\u001b[38;5;241;43m=\u001b[39;49m\u001b[43moutputs\u001b[49m\u001b[43m,\u001b[49m\u001b[43m \u001b[49m\u001b[43mlabel_ids\u001b[49m\u001b[38;5;241;43m=\u001b[39;49m\u001b[43mbatch\u001b[49m\u001b[43m[\u001b[49m\u001b[38;5;124;43m\"\u001b[39;49m\u001b[38;5;124;43mlabels\u001b[39;49m\u001b[38;5;124;43m\"\u001b[39;49m\u001b[43m]\u001b[49m\u001b[43m)\u001b[49m\n\u001b[1;32m     34\u001b[0m     valid_cer \u001b[38;5;241m+\u001b[39m\u001b[38;5;241m=\u001b[39m cer \n\u001b[1;32m     36\u001b[0m \u001b[38;5;28mprint\u001b[39m(\u001b[38;5;124m\"\u001b[39m\u001b[38;5;124mValidation CER:\u001b[39m\u001b[38;5;124m\"\u001b[39m, valid_cer \u001b[38;5;241m/\u001b[39m \u001b[38;5;28mlen\u001b[39m(eval_dataloader))\n",
      "Cell \u001b[0;32mIn[18], line 6\u001b[0m, in \u001b[0;36mcompute_cer\u001b[0;34m(pred_ids, label_ids)\u001b[0m\n\u001b[1;32m      3\u001b[0m label_ids[label_ids \u001b[38;5;241m==\u001b[39m \u001b[38;5;241m-\u001b[39m\u001b[38;5;241m100\u001b[39m] \u001b[38;5;241m=\u001b[39m processor\u001b[38;5;241m.\u001b[39mtokenizer\u001b[38;5;241m.\u001b[39mpad_token_id\n\u001b[1;32m      4\u001b[0m label_str \u001b[38;5;241m=\u001b[39m processor\u001b[38;5;241m.\u001b[39mbatch_decode(label_ids, skip_special_tokens\u001b[38;5;241m=\u001b[39m\u001b[38;5;28;01mTrue\u001b[39;00m)\n\u001b[0;32m----> 6\u001b[0m cer \u001b[38;5;241m=\u001b[39m \u001b[43mcer_metric\u001b[49m\u001b[38;5;241m.\u001b[39mcompute(predictions\u001b[38;5;241m=\u001b[39mpred_str, references\u001b[38;5;241m=\u001b[39mlabel_str)\n\u001b[1;32m      8\u001b[0m \u001b[38;5;28;01mreturn\u001b[39;00m cer\n",
      "\u001b[0;31mNameError\u001b[0m: name 'cer_metric' is not defined"
     ]
    }
   ],
   "source": [
    "from tqdm.notebook import tqdm\n",
    "\n",
    "optimizer = torch.optim.AdamW(model.parameters(), lr=5e-5)\n",
    "\n",
    "for epoch in range(NUM_EPOCHS):  # loop over the dataset multiple times\n",
    "    # train\n",
    "    model.train()\n",
    "    train_loss = 0.0\n",
    "    for batch in tqdm(train_dataloader):\n",
    "        # get the inputs\n",
    "        for k,v in batch.items():\n",
    "        batch[k] = v.to(device)\n",
    "\n",
    "        # forward + backward + optimize\n",
    "        outputs = model(**batch)\n",
    "        loss = outputs.loss\n",
    "        loss.backward()\n",
    "        optimizer.step()\n",
    "        optimizer.zero_grad()\n",
    "\n",
    "        train_loss += loss.item()\n",
    "\n",
    "    print(f\"Loss after epoch {epoch}:\", train_loss/len(train_dataloader))\n",
    "    "
   ]
  },
  {
   "cell_type": "code",
   "execution_count": 25,
   "metadata": {},
   "outputs": [
    {
     "data": {
      "application/vnd.jupyter.widget-view+json": {
       "model_id": "5b8b8d22626547078068ca2710ba3098",
       "version_major": 2,
       "version_minor": 0
      },
      "text/plain": [
       "  0%|          | 0/10 [00:00<?, ?it/s]"
      ]
     },
     "metadata": {},
     "output_type": "display_data"
    },
    {
     "name": "stdout",
     "output_type": "stream",
     "text": [
      "Validation CER: 0.6322965888483052\n"
     ]
    }
   ],
   "source": [
    "# evaluate\n",
    "model.eval()\n",
    "valid_cer = 0.0\n",
    "with torch.no_grad():\n",
    "    for batch in tqdm(eval_dataloader):\n",
    "        # run batch generation\n",
    "        outputs = model.generate(batch[\"pixel_values\"].to(device))\n",
    "        # compute metrics\n",
    "        cer = compute_cer(pred_ids=outputs, label_ids=batch[\"labels\"])\n",
    "        valid_cer += cer \n",
    "\n",
    "print(\"Validation CER:\", valid_cer / len(eval_dataloader))\n"
   ]
  },
  {
   "cell_type": "code",
   "execution_count": 26,
   "metadata": {},
   "outputs": [],
   "source": [
    "\n",
    "model.save_pretrained(\".\")"
   ]
  },
  {
   "cell_type": "code",
   "execution_count": null,
   "metadata": {},
   "outputs": [],
   "source": []
  }
 ],
 "metadata": {
  "kernelspec": {
   "display_name": "base",
   "language": "python",
   "name": "python3"
  },
  "language_info": {
   "codemirror_mode": {
    "name": "ipython",
    "version": 3
   },
   "file_extension": ".py",
   "mimetype": "text/x-python",
   "name": "python",
   "nbconvert_exporter": "python",
   "pygments_lexer": "ipython3",
   "version": "3.11.5"
  }
 },
 "nbformat": 4,
 "nbformat_minor": 2
}
